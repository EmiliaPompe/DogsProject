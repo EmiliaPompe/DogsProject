{
 "cells": [
  {
   "cell_type": "code",
   "execution_count": 13,
   "metadata": {
    "collapsed": false
   },
   "outputs": [],
   "source": [
    "from sklearn.metrics.pairwise import rbf_kernel\n",
    "import numpy as np\n",
    "from scipy import sparse \n",
    "import sys\n",
    "from gaussiandata import SyntheticTarget\n",
    "from greedyfunctions import greedy_select_protos\n",
    "#import greedy_functions\n",
    "import math\n",
    "import scipy"
   ]
  },
  {
   "cell_type": "code",
   "execution_count": 12,
   "metadata": {
    "collapsed": false
   },
   "outputs": [
    {
     "name": "stdout",
     "output_type": "stream",
     "text": [
      "[[ 3.64703263 -3.77549178]\n",
      " [-0.42829885 -3.19168078]\n",
      " [ 3.175412   -3.63978629]]\n"
     ]
    }
   ],
   "source": [
    "SEED = 666\n",
    "number_of_gaussians = 2\n",
    "ex = SyntheticTarget(seed=SEED, dist_components=number_of_gaussians)\n",
    "\n",
    "N = 10000\n",
    "M = 100\n",
    "data = ex.draw_sample(N)\n",
    "print data[(2,3,4),:]\n",
    "gamma = 2\n",
    "kernel_matrix = rbf_kernel(data, gamma = gamma)"
   ]
  },
  {
   "cell_type": "code",
   "execution_count": 34,
   "metadata": {
    "collapsed": false
   },
   "outputs": [],
   "source": [
    "prototype_indices = greedy_select_protos(kernel_matrix, candidate_indices = np.array(range(N)), m = M)"
   ]
  },
  {
   "cell_type": "code",
   "execution_count": 1,
   "metadata": {
    "collapsed": false
   },
   "outputs": [
    {
     "ename": "NameError",
     "evalue": "name 'prototype_indices' is not defined",
     "output_type": "error",
     "traceback": [
      "\u001b[0;31m---------------------------------------------------------------------------\u001b[0m",
      "\u001b[0;31mNameError\u001b[0m                                 Traceback (most recent call last)",
      "\u001b[0;32m<ipython-input-1-98c0df60ac31>\u001b[0m in \u001b[0;36m<module>\u001b[0;34m()\u001b[0m\n\u001b[0;32m----> 1\u001b[0;31m \u001b[0;32mprint\u001b[0m\u001b[0;34m(\u001b[0m\u001b[0mprototype_indices\u001b[0m\u001b[0;34m)\u001b[0m\u001b[0;34m\u001b[0m\u001b[0m\n\u001b[0m",
      "\u001b[0;31mNameError\u001b[0m: name 'prototype_indices' is not defined"
     ]
    }
   ],
   "source": [
    "print(prototype_indices)"
   ]
  },
  {
   "cell_type": "code",
   "execution_count": 13,
   "metadata": {
    "collapsed": false
   },
   "outputs": [
    {
     "ename": "SyntaxError",
     "evalue": "invalid syntax (<ipython-input-13-63edf8dd6ac8>, line 16)",
     "output_type": "error",
     "traceback": [
      "\u001b[0;36m  File \u001b[0;32m\"<ipython-input-13-63edf8dd6ac8>\"\u001b[0;36m, line \u001b[0;32m16\u001b[0m\n\u001b[0;31m    new_kernel_matrix_proto =\u001b[0m\n\u001b[0m                              ^\u001b[0m\n\u001b[0;31mSyntaxError\u001b[0m\u001b[0;31m:\u001b[0m invalid syntax\n"
     ]
    }
   ],
   "source": [
    "gamma = 2\n",
    "prototype_indices = np.arange(M) #assign first M points as prototypes. CONSIDER another method later.\n",
    "criticism_indices = np.arange(M, 2*M) # assign second M points as prototypes.\n",
    "\n",
    "#calculate the initial kernel matrix for the first M points\n",
    "current_kernel_matrix_proto = rbf_kernel(data[prototype_indices,:], gamma=gamma)\n",
    "\n",
    "#current_kernel_matrix_criticism = rbf_kernel(data[np.array(prototype_indices, criticism_indices),:], gamma = gamma)\n",
    "\n",
    "for i in range(2*M, N):\n",
    "    new_point_index = i # assign the new data point index\n",
    "    \n",
    "    accept == 1 # decide whether to skip the criticism part or not \n",
    "    \n",
    "    #prototype part\n",
    "    if accept == 1:\n",
    "        #add new column and row to the kernel matrix for the new point; \n",
    "        #kernel matrix is always growing\n",
    "        #current_kernel_subset,  gamma, x_new, n, timeseries):\n",
    "        new_kernel_matrix_proto = kernel_fn(gamma = gamma, current_kernel_subset = current_kernel_matrix_proto, n = i, timeseries = timeseries, x_new= x_new)\n",
    "        \n",
    "        #run the greedy algorithm on these M+1 data points to select M prototypes\n",
    "        prototype_indices_temp = greedy_select_protos(new_kernel_matrix_proto, \n",
    "                                                  candidate_indices = np.vstack((prototype_indices, i-1)), m = M)\n",
    "    \n",
    "        if prototype_indices_temp == prototype_indices:\n",
    "            accept == 0\n",
    "        \n",
    "        else:\n",
    "            prototype_indices = prototype_indices_temp # update the indices\n",
    "            current_kernel_matrix_proto = new_kernel_matrix_proto # update the kernel matrix\n",
    "    \n",
    "    \n",
    "    #criticism part\n",
    "    if accept == 0:\n",
    "        \n",
    "    \n",
    "    "
   ]
  },
  {
   "cell_type": "code",
   "execution_count": 16,
   "metadata": {
    "collapsed": false
   },
   "outputs": [
    {
     "data": {
      "text/plain": [
       "array([  0,   1,   2,   3,   4,   5,   6,   7,   8,   9,  10,  11,  12,\n",
       "        13,  14,  15,  16,  17,  18,  19,  20,  21,  22,  23,  24,  25,\n",
       "        26,  27,  28,  29,  30,  31,  32,  33,  34,  35,  36,  37,  38,\n",
       "        39,  40,  41,  42,  43,  44,  45,  46,  47,  48,  49,  50,  51,\n",
       "        52,  53,  54,  55,  56,  57,  58,  59,  60,  61,  62,  63,  64,\n",
       "        65,  66,  67,  68,  69,  70,  71,  72,  73,  74,  75,  76,  77,\n",
       "        78,  79,  80,  81,  82,  83,  84,  85,  86,  87,  88,  89,  90,\n",
       "        91,  92,  93,  94,  95,  96,  97,  98,  99, 100])"
      ]
     },
     "execution_count": 16,
     "metadata": {},
     "output_type": "execute_result"
    }
   ],
   "source": [
    "np.arange(M+1)"
   ]
  },
  {
   "cell_type": "code",
   "execution_count": 37,
   "metadata": {
    "collapsed": false
   },
   "outputs": [],
   "source": [
    "def rbf(x,y, gamma):\n",
    "    x = np.asarray(x)\n",
    "    y = np.asarray(y)\n",
    "    return scipy.exp(-gamma*np.linalg.norm(x-y))\n",
    "\n",
    "def our_rbf_kernel(current_kernel_subset,  gamma, x_new, n, timeseries):\n",
    "    new_row = np.zeros(n)\n",
    "    for i in range(n):\n",
    "         new_row[i] = rbf(x = x_new, y = timeseries[i], gamma = gamma)\n",
    "    new_kernel_subset = np.vstack((current_kernel_subset, new_row))\n",
    "    return new_kernel_subset"
   ]
  },
  {
   "cell_type": "code",
   "execution_count": 38,
   "metadata": {
    "collapsed": false
   },
   "outputs": [
    {
     "data": {
      "text/plain": [
       "array([[ -9.16671887e-01,   8.15744137e-01,   7.68242472e-01,\n",
       "          5.29271715e-04,   3.26204577e-02,   1.17723196e+00,\n",
       "          7.16696933e-01,  -1.25678253e+00,  -1.19789775e+00,\n",
       "         -4.77838275e-02],\n",
       "       [ -1.07359524e+00,   8.33294723e-01,  -1.49609838e+00,\n",
       "         -1.26590500e+00,   1.44965188e+00,   2.47288280e+00,\n",
       "         -8.05568947e-01,   1.37749325e+00,   1.60388415e+00,\n",
       "          1.31527918e+00],\n",
       "       [ -2.11285415e-01,   3.48900936e-01,   4.16801757e-01,\n",
       "         -4.69922782e-01,  -2.20001929e+00,   7.83464954e-01,\n",
       "         -4.50360278e-01,   7.10973767e-01,   1.03880549e+00,\n",
       "          1.51370091e+00],\n",
       "       [  2.39208553e-01,   9.63990087e-01,  -1.74088674e-01,\n",
       "          1.85270323e-01,   5.86067323e-01,  -7.78856176e-01,\n",
       "          1.30084613e+00,  -5.06992131e-01,   1.84909571e+00,\n",
       "         -1.05745993e-01],\n",
       "       [ -9.52897691e-01,   1.18977466e-01,  -5.82416949e-01,\n",
       "          5.15202645e-01,   1.95096023e+00,   6.59321331e-01,\n",
       "         -4.97409736e-01,   6.71158332e-02,  -2.50024180e-01,\n",
       "          1.85972940e-01],\n",
       "       [  6.14421235e-06,   4.53999298e-05,   3.35462628e-04,\n",
       "          2.47875218e-03,   1.83156389e-02,   1.35335283e-01,\n",
       "          1.00000000e+00,   1.35335283e-01,   1.83156389e-02,\n",
       "          2.47875218e-03]])"
      ]
     },
     "execution_count": 38,
     "metadata": {},
     "output_type": "execute_result"
    }
   ],
   "source": [
    "current_kernel_subset =  np.random.randn(5,10)\n",
    "our_rbf_kernel(current_kernel_subset = current_kernel_subset, gamma = 2, x_new = 6, n = 10, timeseries = np.arange(10))\n"
   ]
  },
  {
   "cell_type": "code",
   "execution_count": 28,
   "metadata": {
    "collapsed": false
   },
   "outputs": [],
   "source": [
    "new_row = np.zeros(10)"
   ]
  },
  {
   "cell_type": "code",
   "execution_count": 29,
   "metadata": {
    "collapsed": false
   },
   "outputs": [
    {
     "name": "stdout",
     "output_type": "stream",
     "text": [
      "[ 0.  0.  0.  0.  0.  0.  0.  0.  0.  0.]\n"
     ]
    }
   ],
   "source": [
    "print new_row"
   ]
  },
  {
   "cell_type": "code",
   "execution_count": 27,
   "metadata": {
    "collapsed": false
   },
   "outputs": [
    {
     "data": {
      "text/plain": [
       "array([0, 1, 2, 3, 4, 5, 6, 7, 8, 9])"
      ]
     },
     "execution_count": 27,
     "metadata": {},
     "output_type": "execute_result"
    }
   ],
   "source": [
    "np.arange(10)"
   ]
  },
  {
   "cell_type": "code",
   "execution_count": 34,
   "metadata": {
    "collapsed": true
   },
   "outputs": [],
   "source": [
    "A =  np.random.randn(5,10)\n",
    "B =  np.random.randn(5,10)\n"
   ]
  },
  {
   "cell_type": "code",
   "execution_count": null,
   "metadata": {
    "collapsed": true
   },
   "outputs": [],
   "source": []
  }
 ],
 "metadata": {
  "kernelspec": {
   "display_name": "Python 2",
   "language": "python",
   "name": "python2"
  },
  "language_info": {
   "codemirror_mode": {
    "name": "ipython",
    "version": 2
   },
   "file_extension": ".py",
   "mimetype": "text/x-python",
   "name": "python",
   "nbconvert_exporter": "python",
   "pygments_lexer": "ipython2",
   "version": "2.7.12"
  }
 },
 "nbformat": 4,
 "nbformat_minor": 2
}
