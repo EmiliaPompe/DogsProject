{
 "cells": [
  {
   "cell_type": "code",
   "execution_count": 1,
   "metadata": {
    "collapsed": false
   },
   "outputs": [],
   "source": [
    "import numpy as np\n",
    "import matplotlib.pyplot as plt\n",
    "import sys\n",
    "import time\n",
    "import onlinelossmax as olm\n",
    "sys.path.insert(0, './src')\n",
    "from scipy import stats\n",
    "import rff, subsample, herding\n",
    "%matplotlib inline"
   ]
  },
  {
   "cell_type": "code",
   "execution_count": 2,
   "metadata": {
    "collapsed": true
   },
   "outputs": [],
   "source": [
    "class SyntheticTarget(object):\n",
    "    \n",
    "    def __init__(self, dist_components=2, dim=2, seed=None):\n",
    "        if seed is not None:\n",
    "            np.random.seed(seed)\n",
    "        self.dist_weights = stats.dirichlet(np.ones(dist_components)*10).rvs().ravel()\n",
    "        dist_centers = np.random.uniform(-4, 4, size=(dist_components, dim))\n",
    "\n",
    "        def gen_cov():\n",
    "            assert(dim == 2)\n",
    "            rho = np.random.rand()-0.5\n",
    "            sd = np.random.rand(dim)*0.4+0.5\n",
    "            L = np.zeros((dim,dim))\n",
    "            L[0,0] = sd[0]**2\n",
    "            L[1,1] = sd[1]**2\n",
    "            L[0,1] = rho*sd.prod()\n",
    "            return np.dot(L, L.T)\n",
    "\n",
    "        dist_cov = np.array([gen_cov() for i in xrange(dist_components)])\n",
    "        self.dist_obj = np.array([stats.multivariate_normal(dist_centers[k], dist_cov[k]) for k in xrange(dist_components)], dtype=object)\n",
    "        self.dim = dim\n",
    "\n",
    "    def compute_pdf(self, x):\n",
    "        return np.sum(self.dist_weights[:,None,None] * np.array([d.pdf(x) for d in self.dist_obj]), 0)\n",
    "\n",
    "    def draw_sample(self, ns=1):\n",
    "        component = np.random.multinomial(ns, self.dist_weights) # np.argmin(np.random.rand() > self.dist_weights.cumsum())\n",
    "        offset = np.concatenate(([0], component.cumsum()[:-1]))\n",
    "        samples = np.empty((ns,self.dim))\n",
    "        for c, n in enumerate(component):\n",
    "            if n > 0:\n",
    "                samples[offset[c]:offset[c]+n] = self.dist_obj[c].rvs(n) \n",
    "        np.random.shuffle(samples)\n",
    "        return samples\n",
    "\n",
    "    def draw_sample_slow(self):\n",
    "        component = np.argmin(np.random.rand() > self.dist_weights.cumsum())\n",
    "        return self.dist_obj[component].rvs()\n",
    "\n",
    "    def plot(self):\n",
    "        delta = 0.1\n",
    "        boundary = 5\n",
    "        x = np.arange(-boundary, boundary, delta)\n",
    "        y = np.arange(-boundary, boundary, delta)\n",
    "        X, Y = np.meshgrid(x, y)\n",
    "        Z = np.log(self.compute_pdf(np.concatenate((X[:,:,None],Y[:,:,None]),2)))\n",
    "        plt.figure()\n",
    "        contour_levels = np.arange(-9,1)\n",
    "        CS = plt.contour(X, Y, Z, levels=contour_levels)\n",
    "        plt.set_cmap('Blues')"
   ]
  },
  {
   "cell_type": "code",
   "execution_count": 3,
   "metadata": {
    "collapsed": false
   },
   "outputs": [
    {
     "name": "stdout",
     "output_type": "stream",
     "text": [
      "(10000, 2) => 10\n"
     ]
    }
   ],
   "source": [
    "# Change for different sampled target dist\n",
    "SEED = 666\n",
    "ex = SyntheticTarget(seed=SEED, dist_components=2)\n",
    "N = 10000\n",
    "M = 10\n",
    "stream = ex.draw_sample(N)\n",
    "#stream.shape finds the dimensions of the nparray stream\n",
    "print stream.shape, \"=>\", M"
   ]
  },
  {
   "cell_type": "code",
   "execution_count": 4,
   "metadata": {
    "collapsed": false
   },
   "outputs": [
    {
     "data": {
      "text/plain": [
       "array([0, 1, 2, 3, 4, 5, 6, 7, 8, 9])"
      ]
     },
     "execution_count": 4,
     "metadata": {},
     "output_type": "execute_result"
    }
   ],
   "source": [
    "#The below generates the function to calculate phi_hat, median_heuristic calcuates a value for gamma.\n",
    "phi = rff.RFF(500, 2, lengthscale=rff.median_heuristic(stream[:M])) \n",
    "initial_prototypes = np.array(stream[:M])\n",
    "intial_criticisms = np.array(stream[M:2*M])\n",
    "\n",
    "# Compute batch benchmark feature mean\n",
    "#full_stream_phi = phi(stream).mean(0)\n",
    "#full_stream_sq_norm = np.sum(full_stream_phi**2,0)\n",
    "\n",
    "subsampler = subsample.LinearSubsampler(initial_prototypes, phi, logging=True)\n",
    "subsampler.which"
   ]
  },
  {
   "cell_type": "code",
   "execution_count": 5,
   "metadata": {
    "collapsed": false,
    "scrolled": true
   },
   "outputs": [
    {
     "name": "stdout",
     "output_type": "stream",
     "text": [
      "5000\n"
     ]
    }
   ],
   "source": [
    "for i in xrange(2*M, len(stream)):\n",
    "    if np.mod(i, 5000) == 1:\n",
    "        print i-1\n",
    "    subsampler.consider(stream[i])\n",
    "    \n",
    "prototype_indices = subsampler.which"
   ]
  },
  {
   "cell_type": "code",
   "execution_count": 6,
   "metadata": {
    "collapsed": false
   },
   "outputs": [
    {
     "data": {
      "image/png": "[encoded data removed]",
      "text/plain": [
       "<matplotlib.figure.Figure at 0x7ff9e4783bd0>"
      ]
     },
     "metadata": {},
     "output_type": "display_data"
    }
   ],
   "source": [
    "ex.plot()\n",
    "plt.plot(stream[:N,0], stream[:N,1], 'ro');\n",
    "#The below generates the function to calculate phi_hat, median_heuristic calcuates a value for gamma.\n",
    "phi = rff.RFF(500, 2, lengthscale=rff.median_heuristic(stream[:M])) \n",
    "initial_prototypes = np.array(stream[:M])\n",
    "intial_criticisms = np.array(stream[M:2*M])\n",
    "\n",
    "# Compute batch benchmark feature mean\n",
    "#full_stream_phi = phi(stream).mean(0)\n",
    "#full_stream_sq_norm = np.sum(full_stream_phi**2,0)\n",
    "\n",
    "subsampler = subsample.LinearSubsampler(initial_prototypes, phi, logging=True)\n",
    "plt.plot(stream[prototype_indices,0], stream[prototype_indices,1], 'bo');"
   ]
  },
  {
   "cell_type": "code",
   "execution_count": 30,
   "metadata": {
    "collapsed": false
   },
   "outputs": [],
   "source": [
    "from __future__ import division  #So that when we divide by integers we gegt a float. Eg so that 5/2 = 2.5 not 2.\n",
    "import numpy as np\n",
    "\n",
    "\n",
    "def online_loss_max(new_phi, phis_for_criticisms, full_phi_sum, proto_phi_sum, prototype_indices, criticism_indices, n, M, full_stream_phi, N):\n",
    "    #ONLINE_LOSS_MAX maximizes L(C) online.\n",
    "    #Here we are adding x_n and assume that stored_phis and full_phi_sum have been updated to include x_new: the new data point.\n",
    "    \n",
    "    criticism_indices = np.hstack((criticism_indices,n-1))\n",
    "    phis_for_criticisms = np.vstack((phis_for_criticisms,new_phi))\n",
    "    #print phis_for_criticisms.shape\n",
    "    \n",
    "    losses = np.zeros(M+1)\n",
    "    overall_losses = np.zeros(M+1)\n",
    "    for l in range(M+1):\n",
    "        losses[l] = np.abs((1/n)*np.inner(full_phi_sum, phis_for_criticisms[l,:]) - (1/M)*np.inner(proto_phi_sum, phis_for_criticisms[l,:]))\n",
    "        overall_losses[l] = np.abs((1/N)*np.inner(full_stream_phi, phis_for_criticisms[l,:]) - (1/M)*np.inner(proto_phi_sum, phis_for_criticisms[l,:]))\n",
    "    \n",
    "    #print(sum(overall_losses))\n",
    "    \n",
    "    #print(losses)\n",
    "    min_loss_idx = np.argmin(losses)\n",
    "    min_loss = losses[min_loss_idx]\n",
    "    new_loss = losses[M]\n",
    "    #print(min_loss_idx)\n",
    "    #print(sum(losses))\n",
    "\n",
    "    if new_loss > min_loss:\n",
    "        #print(criticism_indices)\n",
    "        criticism_indices = np.delete(criticism_indices, min_loss_idx)\n",
    "        phis_for_criticisms = np.delete(phis_for_criticisms, (min_loss_idx), axis=0)\n",
    "        #print phis_for_criticisms.shape\n",
    "        \n",
    "    else:\n",
    "        criticism_indices = np.delete(criticism_indices, M)\n",
    "        phis_for_criticisms = np.delete(phis_for_criticisms, (M), axis=0)\n",
    "        #print phis_for_criticisms.shape\n",
    "        \n",
    "    olm_return = [criticism_indices, phis_for_criticisms]\n",
    "    return olm_return"
   ]
  },
  {
   "cell_type": "code",
   "execution_count": 33,
   "metadata": {
    "collapsed": false,
    "scrolled": true
   },
   "outputs": [
    {
     "name": "stdout",
     "output_type": "stream",
     "text": [
      "5000\n",
      "[10 11 12 13 14 15 16 17 18 19]\n",
      "[9522 7032 6813 9004 5225 9472 4667 8719 5306 6767]\n"
     ]
    }
   ],
   "source": [
    "#The below generates the function to calculate phi_hat, median_heuristic calcuates a value for gamma.\n",
    "phi = rff.RFF(500, 2, lengthscale=rff.median_heuristic(stream[:M])) \n",
    "\n",
    "#Initialization:\n",
    "prototype_points = np.array(stream[:M])\n",
    "criticism_indices = range(M, 2*M)\n",
    "phis_for_criticisms = phi(np.array(stream[criticism_indices]))\n",
    "\n",
    "# Compute batch benchmark feature mean\n",
    "#full_stream_phi = phi(stream).mean(0)\n",
    "#full_stream_sq_norm = np.sum(full_stream_phi**2,0)\n",
    "\n",
    "subsampler = subsample.LinearSubsampler(prototype_points, phi, logging=True)\n",
    "full_stream_phi = sum(phi(stream))\n",
    "\n",
    "#for i in xrange(2*M, len(stream)):\n",
    "for i in range(2*M, N):\n",
    "    if np.mod(i, 5000) == 1:\n",
    "        print i-1\n",
    "    subsampler.consider(stream[i])\n",
    "    prototype_indices = subsampler.which\n",
    "    is_accepted = subsampler.accepted[-1]\n",
    "    \n",
    "    if not is_accepted:\n",
    "        olm_return = online_loss_max(new_phi = phi(stream[i]), phis_for_criticisms = phis_for_criticisms, \n",
    "                                         full_phi_sum = (i+1)*subsampler._full_mean_phi, \n",
    "                                         proto_phi_sum = M*subsampler._subset_mean_phi, \n",
    "                                         prototype_indices = prototype_indices, \n",
    "                                         criticism_indices = criticism_indices, n = i+1, \n",
    "                                         M = M, full_stream_phi = full_stream_phi, N = N)\n",
    "        criticism_indices = olm_return[0]\n",
    "        #print criticism_indices\n",
    "        #print criticism_indices\n",
    "        phis_for_criticisms = olm_return[1]\n",
    "        \n",
    "print criticism_indices\n",
    "print prototype_indices\n",
    "        \n",
    "    \n"
   ]
  },
  {
   "cell_type": "code",
   "execution_count": 34,
   "metadata": {
    "collapsed": false,
    "scrolled": true
   },
   "outputs": [
    {
     "data": {
      "image/png": "[encoded data removed]",
      "text/plain": [
       "<matplotlib.figure.Figure at 0x7ff9bc7242d0>"
      ]
     },
     "metadata": {},
     "output_type": "display_data"
    }
   ],
   "source": [
    "data = stream\n",
    "ex.plot()\n",
    "plt.plot(data[:N,0], data[:N,1], 'ro');\n",
    "plt.plot(data[prototype_indices,0], data[prototype_indices,1], 'bo');\n",
    "plt.plot(data[criticism_indices,0], data[criticism_indices,1], 'go');"
   ]
  },
  {
   "cell_type": "code",
   "execution_count": 22,
   "metadata": {
    "collapsed": false
   },
   "outputs": [
    {
     "data": {
      "text/plain": [
       "array([ 2.82979896, -3.47356867])"
      ]
     },
     "execution_count": 22,
     "metadata": {},
     "output_type": "execute_result"
    }
   ],
   "source": [
    "stream[1]"
   ]
  },
  {
   "cell_type": "code",
   "execution_count": 36,
   "metadata": {
    "collapsed": false,
    "scrolled": true
   },
   "outputs": [],
   "source": [
    "test_phi = phi(np.array([ -10, 10]))"
   ]
  },
  {
   "cell_type": "code",
   "execution_count": 37,
   "metadata": {
    "collapsed": false
   },
   "outputs": [
    {
     "data": {
      "text/plain": [
       "array([ 0.00026571])"
      ]
     },
     "execution_count": 37,
     "metadata": {},
     "output_type": "execute_result"
    }
   ],
   "source": [
    "np.abs((1/N)*np.inner(full_stream_phi, test_phi) - (1/M)*np.inner(M*subsampler._subset_mean_phi, test_phi))"
   ]
  },
  {
   "cell_type": "code",
   "execution_count": 38,
   "metadata": {
    "collapsed": false
   },
   "outputs": [
    {
     "data": {
      "text/plain": [
       "array([  5.92584224e-01,  -9.56277483e-02,   1.35576358e-01,\n",
       "        -5.32821618e-01,   3.63542435e-02,   1.88663816e-01,\n",
       "        -4.66574874e-01,  -2.24383169e-01,   3.69676924e-01,\n",
       "        -4.76735342e-01,   3.25313781e-01,  -1.04431143e-01,\n",
       "        -5.54426640e-01,   1.95770521e-01,   9.61951970e-02,\n",
       "        -1.67465459e-01,  -1.68405449e-04,  -3.98995862e-02,\n",
       "         6.03178808e-01,  -2.10827042e-01,   4.35080934e-01,\n",
       "        -1.43378265e-01,   4.95475200e-01,   1.77978390e-01,\n",
       "        -1.53738449e-01,  -3.14510524e-01,  -3.62286513e-01,\n",
       "        -3.24778156e-02,   2.32576783e-01,  -1.28776429e-01,\n",
       "         2.40525912e-01,   8.55591339e-02,   1.10269338e-01,\n",
       "         2.57955140e-02,  -3.80512890e-02,   1.65208525e-01,\n",
       "        -4.71636079e-02,  -1.68529398e-01,  -2.68473293e-01,\n",
       "         7.60667325e-02,  -5.64245498e-03,  -5.14499964e-01,\n",
       "         1.92068140e-01,   2.49306829e-01,   1.31860290e-01,\n",
       "        -1.61094113e-01,   6.98581134e-02,  -2.02020389e-01,\n",
       "        -2.34517865e-01,  -1.56297599e-01,   2.84133659e-01,\n",
       "        -3.29269266e-01,   5.27021264e-03,   3.88456721e-01,\n",
       "         3.91385235e-01,   2.27288997e-01,   9.76620009e-02,\n",
       "        -1.54125517e-01,   6.73053678e-02,  -2.09350496e-01,\n",
       "         8.60781577e-02,  -2.97379834e-01,  -4.48883824e-01,\n",
       "         4.37548971e-01,   2.16844068e-01,   2.77985465e-01,\n",
       "         4.65485837e-01,   6.16137914e-01,   4.61588730e-01,\n",
       "         3.42123163e-01,   2.46579089e-01,   1.56455508e-01,\n",
       "         1.88962528e-01,   2.15653366e-01,   5.24754437e-01,\n",
       "        -3.20466504e-02,  -5.50561205e-01,  -4.77393529e-01,\n",
       "         6.57022304e-03,   6.12771180e-02,  -3.00563754e-01,\n",
       "         5.30294716e-01,  -2.34118631e-01,  -6.62184428e-02,\n",
       "        -5.89587813e-01,   5.01753398e-01,   2.87346015e-02,\n",
       "        -4.93249734e-03,   1.43955356e-02,   1.28500206e-01,\n",
       "        -2.27849441e-01,   1.92036373e-01,   1.81495113e-02,\n",
       "        -2.95029089e-01,   3.80490830e-01,  -5.46057677e-02,\n",
       "        -3.64170539e-02,   1.22427933e-01,  -3.40766434e-01,\n",
       "         2.81900968e-01,  -4.94934003e-01,   2.14038828e-01,\n",
       "         4.25171879e-01,  -3.89206418e-02,   5.82897132e-02,\n",
       "         9.95897300e-02,   3.91784970e-01,  -5.82071119e-02,\n",
       "         4.71700489e-01,  -4.13730013e-01,  -2.96577821e-01,\n",
       "        -4.81831911e-01,   1.71850200e-01,  -4.50403504e-02,\n",
       "        -2.57821042e-02,  -5.86430288e-01,  -4.98891191e-01,\n",
       "         2.75998436e-01,  -4.66536797e-01,   4.76246439e-01,\n",
       "        -2.40792225e-01,   4.52147678e-01,  -5.80929886e-02,\n",
       "         1.82059439e-01,  -7.12493326e-02,   6.23817301e-02,\n",
       "        -3.57314923e-01,   2.83320097e-01,  -1.25618891e-01,\n",
       "        -3.91181043e-02,   2.20125108e-01,  -1.87502481e-01,\n",
       "         1.25121095e-01,   1.87211271e-01,   4.34076648e-01,\n",
       "        -1.08399733e-01,  -3.43995263e-02,   3.85480591e-01,\n",
       "         3.79474590e-01,   3.73031072e-01,   4.51064510e-03,\n",
       "        -4.39303804e-01,   1.36950521e-01,  -1.52636881e-01,\n",
       "        -4.20632268e-02,  -2.91967333e-01,  -1.05410934e-01,\n",
       "        -2.08645673e-01,   1.74304158e-01,  -3.38968424e-01,\n",
       "         5.40751613e-01,   1.77329507e-01,   3.96270085e-03,\n",
       "        -1.18041000e-01,   1.36175356e-01,  -1.48247245e-01,\n",
       "        -3.56036662e-01,  -1.97370489e-01,   9.46364710e-02,\n",
       "         1.78876125e-01,  -5.64954613e-01,   6.41961977e-03,\n",
       "        -1.40538249e-01,  -2.50616092e-02,   8.10356422e-02,\n",
       "         2.97663326e-01,  -4.17612552e-02,  -4.01710921e-01,\n",
       "        -4.67051443e-01,  -1.51510863e-01,   9.81134967e-02,\n",
       "         3.95464266e-01,   5.06006496e-01,  -2.48162646e-01,\n",
       "         2.72405810e-01,  -2.23894530e-02,  -1.14650694e-01,\n",
       "         5.50525957e-01,  -6.47515957e-02,  -6.17767403e-02,\n",
       "        -1.01335920e-01,  -4.92017504e-01,  -3.70677234e-01,\n",
       "         5.14610044e-01,   3.50401268e-01,  -4.64664457e-02,\n",
       "        -7.02961716e-02,  -2.44525760e-01,   4.68882438e-02,\n",
       "         3.77787614e-01,  -4.40391809e-01,   6.17100833e-02,\n",
       "        -2.85299744e-01,   2.35873472e-01,   4.24919597e-01,\n",
       "         1.38455289e-01,  -1.10237297e-01,  -3.01686831e-01,\n",
       "        -1.81073526e-01,  -1.16606548e-01,   8.91353300e-02,\n",
       "         3.31096034e-01,   1.27669206e-01,  -4.50678037e-03,\n",
       "         3.75024369e-01,   4.38782279e-01,   4.68933077e-02,\n",
       "        -5.09127327e-01,   3.41063419e-01,   9.98967466e-02,\n",
       "        -8.55902566e-02,   2.86721740e-01,   2.93741412e-01,\n",
       "         2.22803363e-01,   1.27410979e-01,  -3.51537933e-01,\n",
       "        -9.90606026e-02,   3.06545558e-02,   9.23950272e-02,\n",
       "         4.61630127e-01,  -5.52521789e-01,   1.53879106e-01,\n",
       "         3.91477558e-02,  -4.03902382e-02,  -4.35307519e-02,\n",
       "         1.04823983e-01,   4.27649721e-03,   8.31959607e-02,\n",
       "         5.06485720e-02,  -2.53408183e-01,   3.59974701e-01,\n",
       "        -3.15268719e-01,   2.84965513e-01,   5.45903249e-01,\n",
       "        -2.21360289e-01,  -2.41832894e-02,  -4.39802270e-01,\n",
       "        -4.21682114e-03,  -2.86292637e-01,  -1.82092033e-02,\n",
       "        -3.54952439e-01,   1.71746607e-02,  -2.81106600e-01,\n",
       "        -6.56266575e-02,  -3.19315642e-01,  -2.25408693e-01,\n",
       "        -3.12111737e-01,   9.13171979e-02,   2.51332066e-01,\n",
       "         6.45204805e-02,   4.07291364e-01,  -2.76913376e-01,\n",
       "        -1.65563315e-01,  -1.78905575e-01,  -3.74293734e-01,\n",
       "         6.59798264e-02,   3.62790755e-01,   2.63678375e-02,\n",
       "         1.06704579e-01,   1.18523520e-01,   4.35807893e-01,\n",
       "         3.18108186e-01,   1.71489559e-01,   3.37918051e-01,\n",
       "        -4.94041674e-02,  -4.71746301e-02,  -6.03197547e-01,\n",
       "        -7.83662660e-02,   2.52584856e-01,  -5.71074513e-02,\n",
       "         1.34207369e-01,   2.98245612e-02,  -2.81288253e-02,\n",
       "        -2.00999597e-01,   2.70506854e-01,  -1.91439131e-01,\n",
       "        -4.25387253e-01,   3.23211646e-01,   2.90069689e-01,\n",
       "         5.68690285e-01,   2.05790295e-01,   1.70306609e-01,\n",
       "        -6.06600776e-02,   3.79010050e-01,  -3.65862545e-02,\n",
       "        -4.47013477e-01,   2.21677213e-01,  -2.02156620e-01,\n",
       "        -3.72303183e-01,  -3.74992370e-01,  -3.32116544e-01,\n",
       "         1.64503212e-01,  -7.59863038e-02,  -4.51470589e-01,\n",
       "         6.87821815e-02,  -6.52905471e-02,   5.05080747e-01,\n",
       "         9.07162437e-02,   1.55266487e-01,  -2.85065440e-02,\n",
       "         4.56060172e-01,  -2.15975950e-01,   2.19105495e-01,\n",
       "         1.37592585e-01,  -4.21213683e-01,  -4.85290173e-01,\n",
       "         4.90056647e-02,  -7.41868237e-02,   5.30547543e-01,\n",
       "         8.28307845e-02,   2.69311276e-01,   1.92250683e-01,\n",
       "         1.47065231e-01,   5.33484956e-01,  -1.24567569e-01,\n",
       "         4.77261354e-02,  -4.19287891e-01,   6.91119855e-02,\n",
       "         1.49675832e-01,  -5.55527745e-02,   4.62296856e-01,\n",
       "        -1.96339066e-01,   3.96157851e-01,  -4.16650017e-01,\n",
       "        -3.31336304e-01,  -3.50017219e-02,   2.08840676e-01,\n",
       "        -3.86007202e-02,  -2.69831082e-01,  -6.66621388e-03,\n",
       "        -2.03619328e-01,  -1.28869074e-01,   1.71665271e-01,\n",
       "         4.38030502e-01,  -1.86063408e-01,   7.72485026e-02,\n",
       "        -3.08891098e-01,   3.44632828e-01,   5.12745024e-02,\n",
       "        -1.70462891e-01,   1.75820593e-01,  -1.16642074e-01,\n",
       "        -1.44655700e-02,  -4.43047742e-01,   1.47451601e-01,\n",
       "         1.04584742e-02,   6.05213536e-02,   9.49408020e-02,\n",
       "         5.01216809e-01,  -2.28116258e-01,   1.95443378e-01,\n",
       "        -4.45657431e-01,   5.93921294e-02,  -3.71413837e-01,\n",
       "         1.19120143e-01,   2.57408521e-01,   5.98751054e-01,\n",
       "         6.26552286e-02,   1.97267421e-01,   1.73613044e-01,\n",
       "        -7.52773003e-02,  -3.41426721e-01,   3.20664191e-01,\n",
       "         5.07952093e-02,  -8.88799439e-02,   1.19227589e-01,\n",
       "         2.96706717e-01,   5.14648522e-01,  -1.41632700e-01,\n",
       "         2.20280009e-01,  -1.52137478e-02,  -2.74440529e-01,\n",
       "         4.03171145e-01,  -1.68235029e-01,  -3.46701887e-01,\n",
       "        -4.96015347e-01,   5.96821375e-01,  -1.13970108e-02,\n",
       "        -1.66248977e-01,   1.32735605e-01,  -3.81398283e-02,\n",
       "        -1.46333613e-01,   2.47754824e-01,  -4.41274794e-01,\n",
       "        -1.10799158e-02,   2.09611845e-01,  -3.48589061e-01,\n",
       "        -6.25322852e-01,   5.48759572e-01,   2.17739960e-01,\n",
       "        -3.96376655e-01,   4.53410296e-01,  -5.34933653e-01,\n",
       "         5.62191163e-01,  -1.96953380e-01,  -1.33642259e-01,\n",
       "        -4.73030787e-01,   2.94141640e-01,  -1.57302488e-01,\n",
       "        -2.89669726e-01,   2.68325403e-02,  -1.46635007e-01,\n",
       "        -3.36454545e-02,  -4.79981251e-01,  -3.63703519e-01,\n",
       "         3.49809657e-01,  -1.41967387e-01,  -8.00060649e-02,\n",
       "         1.94704433e-01,  -2.53665273e-01,   2.19346376e-01,\n",
       "        -4.95575414e-01,  -5.08543508e-01,  -1.78862788e-01,\n",
       "         3.95411477e-01,   5.24835174e-01,  -1.24184108e-01,\n",
       "         1.18032670e-01,   8.57632050e-02,  -5.62055073e-01,\n",
       "        -1.38824019e-01,  -4.32648872e-01,   3.55722337e-01,\n",
       "         4.73239366e-01,   2.42230511e-01,  -2.15652153e-02,\n",
       "        -3.41504535e-02,  -1.14674914e-01,   1.61900268e-01,\n",
       "        -2.35696616e-01,  -1.35795548e-01,  -9.29051685e-02,\n",
       "        -1.21732108e-01,   2.66396890e-01,   2.83431193e-01,\n",
       "         2.41951381e-01,   2.48747338e-01,  -1.59330132e-01,\n",
       "         3.66860597e-01,   2.83929856e-02,  -2.08079502e-02,\n",
       "        -3.42423265e-02,  -1.82194770e-02,  -1.72178655e-01,\n",
       "        -2.75784902e-01,  -9.06229057e-02,  -1.70602875e-02,\n",
       "        -4.48316884e-01,   4.14168626e-01,  -2.28526143e-01,\n",
       "         7.64074125e-02,   3.28214106e-01,  -2.67134114e-01,\n",
       "         1.39994915e-01,   2.52721775e-01,   5.28095098e-01,\n",
       "        -2.44052131e-02,  -3.38600034e-01,  -8.99012533e-02,\n",
       "        -1.76622677e-01,  -4.47426755e-02,   4.36371075e-02,\n",
       "         3.15993351e-01,  -1.21707016e-02,  -8.32788053e-02,\n",
       "         2.17900081e-01,   1.34116563e-01,   9.91851916e-03,\n",
       "        -2.11358688e-01,  -3.39704742e-01,   1.80442834e-01,\n",
       "         2.98031622e-01,   1.39642867e-01,  -1.74721330e-01,\n",
       "        -5.36536544e-01,  -5.81224735e-02,  -2.27159340e-01,\n",
       "        -2.10227757e-02,   7.04274502e-02,   1.25066913e-01,\n",
       "        -3.62748900e-01,   4.36362636e-01,  -6.00954828e-01,\n",
       "        -3.54667423e-01,   2.00996272e-01,  -4.68910228e-01,\n",
       "         4.32497227e-01,   1.86348493e-01,  -2.96958090e-02,\n",
       "         2.69485653e-01,  -9.10332055e-02,   1.81602622e-02,\n",
       "         3.11123385e-01,  -4.76512963e-02,   1.06809728e-01,\n",
       "        -2.93219910e-01,   3.54180689e-01,  -3.43725139e-01,\n",
       "        -4.41723677e-02,  -1.72752399e-01])"
      ]
     },
     "execution_count": 38,
     "metadata": {},
     "output_type": "execute_result"
    }
   ],
   "source": [
    "M*subsampler._subset_mean_phi"
   ]
  },
  {
   "cell_type": "code",
   "execution_count": 58,
   "metadata": {
    "collapsed": false,
    "scrolled": true
   },
   "outputs": [
    {
     "data": {
      "text/plain": [
       "array([ 0.59611318, -0.1559007 ,  0.19958506, -0.51538518, -0.00968334,\n",
       "        0.1359988 , -0.4901799 , -0.25727608,  0.38707952, -0.45499357,\n",
       "        0.32980211, -0.08888952, -0.56331882,  0.1456268 ,  0.11415815,\n",
       "       -0.18671955, -0.20050884, -0.01914535,  0.60295934, -0.25464028,\n",
       "        0.31586285, -0.09804693,  0.50793504,  0.25546802, -0.0040679 ,\n",
       "       -0.29681086, -0.36751054, -0.07130776,  0.25658615, -0.14662778,\n",
       "        0.25570177,  0.11749532,  0.18340158,  0.04525442, -0.00385563,\n",
       "        0.1760905 , -0.08834161, -0.04201433, -0.2871302 , -0.0074228 ,\n",
       "       -0.0700599 , -0.5355486 ,  0.20915948,  0.27375891,  0.09319276,\n",
       "       -0.16646867,  0.00636214, -0.17425091, -0.2011148 , -0.06466618,\n",
       "        0.27486174, -0.30911767, -0.04522394,  0.28566812,  0.3711151 ,\n",
       "        0.1954177 ,  0.05894172, -0.11571224,  0.05275916, -0.25517989,\n",
       "       -0.01377838, -0.31736423, -0.41885213,  0.48398562,  0.30993989,\n",
       "        0.22714787,  0.47488592,  0.61701361,  0.45563412,  0.19654587,\n",
       "        0.12614457,  0.18977667,  0.20523607,  0.23655156,  0.50661512,\n",
       "        0.0350387 , -0.56003199, -0.37442727, -0.05869615,  0.17456674,\n",
       "       -0.29226368,  0.53653691, -0.17734464, -0.00157896, -0.58815917,\n",
       "        0.50996998,  0.00594396, -0.00291404,  0.03931401,  0.17023437,\n",
       "       -0.19796391,  0.19222203,  0.07152666, -0.27934618,  0.39939298,\n",
       "       -0.00433007,  0.06986656,  0.12409091, -0.35901226,  0.29506956,\n",
       "       -0.47173119,  0.15795149,  0.44758791,  0.04378445,  0.02976655,\n",
       "        0.13239537,  0.3392624 , -0.00572742,  0.48205519, -0.41629021,\n",
       "       -0.28545029, -0.48072707,  0.18970065, -0.01232276, -0.00641991,\n",
       "       -0.59837117, -0.52066811,  0.25040474, -0.33771032,  0.48538283,\n",
       "       -0.25950059,  0.47585591, -0.05780627,  0.19883968, -0.03665537,\n",
       "        0.07083059, -0.37433883,  0.18500954, -0.04972446, -0.05755145,\n",
       "        0.23301262, -0.06282173,  0.13388565,  0.22751358,  0.43712289,\n",
       "       -0.0253278 ,  0.0984148 ,  0.36078847,  0.39287968,  0.37534499,\n",
       "       -0.04051543, -0.44055243, -0.0027462 , -0.15689966, -0.05633507,\n",
       "       -0.27088272, -0.05925796, -0.23819928,  0.2112776 , -0.38980823,\n",
       "        0.52883817,  0.22581832, -0.08015532, -0.17238111,  0.23234576,\n",
       "       -0.09457966, -0.31574133, -0.21878101, -0.0119817 ,  0.26237139,\n",
       "       -0.55536126, -0.01916037, -0.16395898,  0.07739658,  0.04776573,\n",
       "        0.29928799,  0.06681204, -0.40439196, -0.35988337, -0.20572047,\n",
       "        0.10439442,  0.41613154,  0.39717664, -0.13382684,  0.25372332,\n",
       "       -0.03157558, -0.01624435,  0.55751936, -0.12580363,  0.00512808,\n",
       "       -0.09628217, -0.43446189, -0.32062282,  0.52009847,  0.36222406,\n",
       "       -0.05753775, -0.09486125, -0.25184738,  0.07597346,  0.42215292,\n",
       "       -0.44378271, -0.00245834, -0.28592868,  0.24109263,  0.45225311,\n",
       "        0.09556697, -0.02688875, -0.3150668 , -0.05386947, -0.12011947,\n",
       "        0.1230237 ,  0.38001759,  0.03956622,  0.07278804,  0.33582949,\n",
       "        0.45224633,  0.04459492, -0.4104111 ,  0.30707684,  0.10528611,\n",
       "       -0.17730774,  0.30767344,  0.33497509,  0.23123224,  0.0247328 ,\n",
       "       -0.31741524,  0.01977005, -0.02682281,  0.15972313,  0.46783438,\n",
       "       -0.55710734,  0.256517  ,  0.00940483,  0.06258576,  0.06387441,\n",
       "        0.0518042 ,  0.01046173,  0.03934937,  0.08917809, -0.11136849,\n",
       "        0.34210119, -0.35378778,  0.26728973,  0.54715627, -0.2432261 ,\n",
       "       -0.02112216, -0.45701965,  0.07811555, -0.30966806, -0.12491193,\n",
       "       -0.34467799,  0.05603804, -0.36661928, -0.00160324, -0.32702641,\n",
       "       -0.11510448, -0.36892849,  0.17699245,  0.32195903, -0.07138793,\n",
       "        0.38620156, -0.28164103, -0.00521291, -0.05482509, -0.38663982,\n",
       "        0.01312414,  0.32327266,  0.03468996,  0.11272315,  0.04698402,\n",
       "        0.44620829,  0.34413261,  0.23372082,  0.34133448, -0.05538271,\n",
       "        0.07648083, -0.60297783,  0.06797152,  0.25005129, -0.03372379,\n",
       "        0.09747089, -0.02742291, -0.01384261, -0.2595931 ,  0.2654888 ,\n",
       "       -0.15370485, -0.40853536,  0.31278706,  0.30045476,  0.57814909,\n",
       "        0.21446838,  0.20047207, -0.03584858,  0.42099963, -0.08339386,\n",
       "       -0.44238858,  0.17363645, -0.07401292, -0.38504791, -0.38738304,\n",
       "       -0.33281052,  0.03997548, -0.10699775, -0.46626438, -0.02282729,\n",
       "        0.04193675,  0.52582347,  0.13173663,  0.09855   , -0.06309709,\n",
       "        0.36102128, -0.18398762,  0.26876284,  0.12151628, -0.3877204 ,\n",
       "       -0.50226971,  0.07394271, -0.06274357,  0.51957165, -0.01344653,\n",
       "        0.29632981,  0.27093374,  0.16886921,  0.52309428, -0.12958898,\n",
       "        0.02289737, -0.30403947,  0.02933551,  0.13127637, -0.09159061,\n",
       "        0.44439973, -0.20363517,  0.37066054, -0.41323639, -0.32464311,\n",
       "        0.01096939,  0.08173539, -0.07446942, -0.22947487, -0.09338637,\n",
       "       -0.24682701, -0.10977601,  0.20210801,  0.46733298, -0.05548309,\n",
       "       -0.01076101, -0.36894557,  0.35296989,  0.04909003, -0.20963144,\n",
       "        0.22500878, -0.14026003, -0.06367054, -0.43509865,  0.18300514,\n",
       "        0.00489563,  0.1075285 ,  0.05294308,  0.49411989, -0.08419728,\n",
       "        0.14177281, -0.43038499,  0.05640625, -0.42009534,  0.22994265,\n",
       "        0.34052362,  0.6018307 ,  0.17638698,  0.22304118,  0.2176353 ,\n",
       "        0.06667137, -0.35383996,  0.34477844,  0.09858974, -0.09653742,\n",
       "        0.09933224,  0.30907488,  0.52057705, -0.15132176,  0.21344724,\n",
       "       -0.02600303, -0.26733887,  0.39149058, -0.18337746, -0.3361634 ,\n",
       "       -0.50083395,  0.5975835 , -0.04242058, -0.16037209,  0.0889252 ,\n",
       "       -0.08407478, -0.13286919,  0.25506225, -0.45522373,  0.07109237,\n",
       "        0.20821201, -0.35082174, -0.62430539,  0.56267287,  0.18218526,\n",
       "       -0.26359217,  0.46471913, -0.54023059,  0.56063317, -0.16267851,\n",
       "       -0.13794273, -0.45839724,  0.2793058 , -0.07996823, -0.29105396,\n",
       "        0.04746897, -0.08947545, -0.04633487, -0.4882959 , -0.35611478,\n",
       "        0.34522162, -0.15887853, -0.18440716,  0.15368786, -0.30523302,\n",
       "        0.17346217, -0.41734552, -0.5273389 , -0.18326082,  0.36614242,\n",
       "        0.5271601 , -0.12409087,  0.16755834,  0.16693166, -0.57081375,\n",
       "       -0.12680615, -0.43131074,  0.32788334,  0.50521685,  0.25149353,\n",
       "        0.05464739, -0.03340073, -0.11121426,  0.10925998, -0.25206294,\n",
       "       -0.01060186, -0.12933827, -0.08634999,  0.23614727,  0.29525327,\n",
       "        0.20083281,  0.28349831, -0.10229723,  0.33978069,  0.08267801,\n",
       "       -0.01220589,  0.06607962, -0.14551774, -0.0594597 , -0.27039816,\n",
       "       -0.09056404,  0.01972918, -0.49429826,  0.46816563, -0.23591008,\n",
       "        0.07991404,  0.32296806, -0.3034813 ,  0.1528406 ,  0.33685258,\n",
       "        0.52667065, -0.06539245, -0.36758117, -0.18744397, -0.13100481,\n",
       "        0.06574619,  0.02516737,  0.2949783 , -0.07966483, -0.13805936,\n",
       "        0.14656302,  0.17319082,  0.00238581, -0.22683902, -0.35985544,\n",
       "        0.19555147,  0.26221208,  0.01418645, -0.21253737, -0.56104844,\n",
       "       -0.0731745 , -0.23754161,  0.03326136,  0.0796775 ,  0.13660633,\n",
       "       -0.39569351,  0.36546318, -0.60025894, -0.38408225,  0.12251086,\n",
       "       -0.49363381,  0.40151425,  0.19227042, -0.02515593,  0.28340602,\n",
       "       -0.07542981,  0.00743322,  0.34186704, -0.08534892,  0.10443051,\n",
       "       -0.31024554,  0.27659709, -0.36501042,  0.00171204, -0.185281  ])"
      ]
     },
     "execution_count": 58,
     "metadata": {},
     "output_type": "execute_result"
    }
   ],
   "source": [
    "np.sum(phi(stream[prototype_indices]), axis = 0)"
   ]
  },
  {
   "cell_type": "code",
   "execution_count": 46,
   "metadata": {
    "collapsed": false
   },
   "outputs": [],
   "source": [
    "test_phi = phi(np.array([ -100000000, 10000000]))"
   ]
  },
  {
   "cell_type": "code",
   "execution_count": 47,
   "metadata": {
    "collapsed": false
   },
   "outputs": [
    {
     "data": {
      "text/plain": [
       "array([ 0.00542724])"
      ]
     },
     "execution_count": 47,
     "metadata": {},
     "output_type": "execute_result"
    }
   ],
   "source": [
    "np.abs((1/N)*np.inner(sum(phi(stream)), test_phi) - (1/M)*np.inner(sum(phi(stream[prototype_indices])), test_phi))"
   ]
  },
  {
   "cell_type": "code",
   "execution_count": 49,
   "metadata": {
    "collapsed": true
   },
   "outputs": [],
   "source": [
    "test_phi = phi(np.array([ -1, -3]))"
   ]
  },
  {
   "cell_type": "code",
   "execution_count": 50,
   "metadata": {
    "collapsed": false,
    "scrolled": true
   },
   "outputs": [
    {
     "data": {
      "text/plain": [
       "array([ 0.02026332])"
      ]
     },
     "execution_count": 50,
     "metadata": {},
     "output_type": "execute_result"
    }
   ],
   "source": [
    "np.abs((1/N)*np.inner(sum(phi(stream)), test_phi) - (1/M)*np.inner(sum(phi(stream[prototype_indices])), test_phi))"
   ]
  },
  {
   "cell_type": "code",
   "execution_count": 53,
   "metadata": {
    "collapsed": false
   },
   "outputs": [
    {
     "data": {
      "text/plain": [
       "5"
      ]
     },
     "execution_count": 53,
     "metadata": {},
     "output_type": "execute_result"
    }
   ],
   "source": [
    "np.inner(np.array(range(1,3)), np.array(range(1,3)))"
   ]
  },
  {
   "cell_type": "code",
   "execution_count": 52,
   "metadata": {
    "collapsed": false
   },
   "outputs": [
    {
     "data": {
      "text/plain": [
       "[1]"
      ]
     },
     "execution_count": 52,
     "metadata": {},
     "output_type": "execute_result"
    }
   ],
   "source": [
    "range(1,2)"
   ]
  },
  {
   "cell_type": "code",
   "execution_count": 57,
   "metadata": {
    "collapsed": false
   },
   "outputs": [
    {
     "name": "stdout",
     "output_type": "stream",
     "text": [
      "(10, 500)\n"
     ]
    }
   ],
   "source": [
    "print phi(stream[prototype_indices]).shape"
   ]
  },
  {
   "cell_type": "code",
   "execution_count": null,
   "metadata": {
    "collapsed": true
   },
   "outputs": [],
   "source": []
  }
 ],
 "metadata": {
  "kernelspec": {
   "display_name": "Python 2",
   "language": "python",
   "name": "python2"
  },
  "language_info": {
   "codemirror_mode": {
    "name": "ipython",
    "version": 2
   },
   "file_extension": ".py",
   "mimetype": "text/x-python",
   "name": "python",
   "nbconvert_exporter": "python",
   "pygments_lexer": "ipython2",
   "version": "2.7.12"
  }
 },
 "nbformat": 4,
 "nbformat_minor": 2
}
