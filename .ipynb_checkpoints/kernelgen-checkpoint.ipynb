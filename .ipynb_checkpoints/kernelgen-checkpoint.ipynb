{
 "cells": [
  {
   "cell_type": "code",
   "execution_count": 9,
   "metadata": {
    "collapsed": false
   },
   "outputs": [],
   "source": [
    "from sklearn.metrics.pairwise import rbf_kernel\n",
    "from gaussiandata import SyntheticTarget"
   ]
  },
  {
   "cell_type": "code",
   "execution_count": 10,
   "metadata": {
    "collapsed": false
   },
   "outputs": [
    {
     "data": {
      "text/plain": [
       "array([[  1.00000000e+00,   2.44384996e-24,   1.09287834e-16, ...,\n",
       "          9.50261440e-24,   6.52998632e-27,   2.20473178e-01],\n",
       "       [  2.44384996e-24,   1.00000000e+00,   5.76932476e-02, ...,\n",
       "          7.48525411e-01,   3.94387096e-02,   1.30384853e-17],\n",
       "       [  1.09287834e-16,   5.76932476e-02,   1.00000000e+00, ...,\n",
       "          1.62217144e-01,   4.28739550e-02,   1.04332661e-11],\n",
       "       ..., \n",
       "       [  9.50261440e-24,   7.48525411e-01,   1.62217144e-01, ...,\n",
       "          1.00000000e+00,   1.86374921e-01,   2.49804788e-17],\n",
       "       [  6.52998632e-27,   3.94387096e-02,   4.28739550e-02, ...,\n",
       "          1.86374921e-01,   1.00000000e+00,   1.14967107e-20],\n",
       "       [  2.20473178e-01,   1.30384853e-17,   1.04332661e-11, ...,\n",
       "          2.49804788e-17,   1.14967107e-20,   1.00000000e+00]])"
      ]
     },
     "execution_count": 10,
     "metadata": {},
     "output_type": "execute_result"
    }
   ],
   "source": [
    "SEED = 666\n",
    "ex = SyntheticTarget(seed=SEED, dist_components=2)\n",
    "\n",
    "sample_size = 1000\n",
    "M = 100\n",
    "data = ex.draw_sample(sample_size)\n",
    "gamma = 2\n",
    "kernel_matrix = rbf_kernel(data, gamma = gamma)"
   ]
  },
  {
   "cell_type": "code",
   "execution_count": 11,
   "metadata": {
    "collapsed": true
   },
   "outputs": [],
   "source": [
    "# K is the kernel matrix which is nbyn, n being the number of data points\n",
    "# candidate indicies is an array of 0 to n-1, you might want to use a subset instead. TO CONSIDER.\n",
    "\n",
    "def greedy_select_protos(K, candidate_indices, m, is_K_sparse=False):\n",
    "\n",
    "    if len(candidate_indices) != np.shape(K)[0]:\n",
    "        K = K[:,candidate_indices][candidate_indices,:]\n",
    "\n",
    "    n = len(candidate_indices)\n",
    "\n",
    "    # colsum = np.array(K.sum(0)).ravel() # same as rowsum\n",
    "    if is_K_sparse:\n",
    "        colsum = 2*np.array(K.sum(0)).ravel() / n\n",
    "    else:\n",
    "        colsum = 2*np.sum(K, axis=0) / n\n",
    "\n",
    "    selected = np.array([], dtype=int)\n",
    "    value = np.array([])\n",
    "    for i in range(m):\n",
    "        maxx = -sys.float_info.max\n",
    "        argmax = -1\n",
    "        candidates = np.setdiff1d(range(n), selected)\n",
    "\n",
    "        s1array = colsum[candidates]\n",
    "        if len(selected) > 0:\n",
    "            temp = K[selected, :][:, candidates]\n",
    "            if is_K_sparse:\n",
    "                # s2array = temp.sum(0) *2\n",
    "                s2array = temp.sum(0) * 2 + K.diagonal()[candidates]\n",
    "\n",
    "            else:\n",
    "                s2array = np.sum(temp, axis=0) *2 + np.diagonal(K)[candidates]\n",
    "\n",
    "            s2array = s2array/(len(selected) + 1)\n",
    "\n",
    "            s1array = s1array - s2array\n",
    "\n",
    "        else:\n",
    "            if is_K_sparse:\n",
    "                s1array = s1array - np.log(np.abs(K.diagonal()[candidates]))\n",
    "            else:\n",
    "                s1array = s1array - np.log(np.abs(np.diagonal(K)[candidates]))\n",
    "\n",
    "        argmax = candidates[np.argmax(s1array)]\n",
    "        # print \"max %f\" %np.max(s1array)\n",
    "\n",
    "        selected = np.append(selected, argmax)\n",
    "        # value = np.append(value,maxx)\n",
    "        KK = K[selected, :][:, selected]\n",
    "        if is_K_sparse:\n",
    "            KK = KK.todense()\n",
    "\n",
    "        inverse_of_prev_selected = np.linalg.inv(KK)  # shortcut\n",
    "\n",
    "    return candidate_indices[selected]"
   ]
  },
  {
   "cell_type": "code",
   "execution_count": null,
   "metadata": {
    "collapsed": true
   },
   "outputs": [],
   "source": [
    "\n",
    "greedy_select_protos(K, candidate_indices, m, is_K_sparse=False):"
   ]
  }
 ],
 "metadata": {
  "kernelspec": {
   "display_name": "Python 2",
   "language": "python",
   "name": "python2"
  },
  "language_info": {
   "codemirror_mode": {
    "name": "ipython",
    "version": 2
   },
   "file_extension": ".py",
   "mimetype": "text/x-python",
   "name": "python",
   "nbconvert_exporter": "python",
   "pygments_lexer": "ipython2",
   "version": "2.7.12"
  }
 },
 "nbformat": 4,
 "nbformat_minor": 2
}
