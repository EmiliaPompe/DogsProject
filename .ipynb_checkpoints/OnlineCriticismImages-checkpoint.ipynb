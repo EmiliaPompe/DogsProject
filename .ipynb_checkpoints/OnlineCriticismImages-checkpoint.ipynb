{
 "cells": [
  {
   "cell_type": "code",
   "execution_count": null,
   "metadata": {
    "collapsed": true
   },
   "outputs": [],
   "source": [
    "from onlineGreedyfile import onlineGreedy \n",
    "from onlinePrototypes import protonline\n",
    "from onlineCriticism import crionline\n",
    "\n",
    "import math\n",
    "import scipy\n",
    "import matplotlib.pyplot as plt \n",
    "%matplotlib inline\n",
    "\n",
    "from sklearn.metrics.pairwise import rbf_kernel\n",
    "import numpy as np\n",
    "import matplotlib.pyplot as plt\n",
    "from scipy import sparse \n",
    "\n",
    "import sys\n",
    "import time\n",
    "\n",
    "sys.path.insert(0, 'rff/src')\n",
    "sys.path.insert(0, 'rff/ext')\n",
    "import subsample, herding, rptree, rff\n",
    "\n",
    "sys.path.insert(0, 'MMD')\n",
    "from data import load_svmlight_file\n",
    "from data import Data"
   ]
  },
  {
   "cell_type": "code",
   "execution_count": null,
   "metadata": {
    "collapsed": true
   },
   "outputs": [],
   "source": [
    "# Download and read MNIST data\n",
    "import input_data\n",
    "mnist = input_data.read_data_sets('rff/ext/MNIST')"
   ]
  },
  {
   "cell_type": "code",
   "execution_count": null,
   "metadata": {
    "collapsed": true
   },
   "outputs": [],
   "source": [
    "#The below generates the function to calculate phi_hat, median_heuristic calcuates a value for gamma.\n",
    "gamma = rff.median_heuristic(stream[:M])\n",
    "phi = rff.RFF(500, 2, lengthscale=gamma) \n",
    "\n",
    "#kernel_matrix = compute_kernel(stream, N, gamma = 0.029)\n",
    "\n",
    "#Initialization:\n",
    "prototype_points = np.array(stream[:M])\n",
    "criticism_indices = range(M, 2*M)\n",
    "phis_for_criticisms = phi(np.array(stream[criticism_indices]))\n",
    "\n",
    "# Compute batch benchmark feature mean\n",
    "#full_stream_phi = phi(stream).mean(0)\n",
    "#full_stream_sq_norm = np.sum(full_stream_phi**2,0)\n",
    "\n",
    "subsampler = subsample.LinearSubsampler(prototype_points, phi, logging=True)\n",
    "full_stream_phi = sum(phi(stream))\n",
    "\n",
    "#for i in xrange(2*M, len(stream)):\n",
    "for i in range(2*M, N):\n",
    "    if np.mod(i, 500) == 1:\n",
    "        print i-1\n",
    "    subsampler.consider(stream[i])\n",
    "    prototype_indices = subsampler.which\n",
    "    is_accepted = subsampler.accepted[-1]\n",
    "    #print (i+1)*subsampler._full_mean_phi\n",
    "    #print subsampler.total_sum_test\n",
    "    \n",
    "    #prototype_indices = np.asarray([5520, 9233, 8410, 2765 ,5408, 7700 ,6251 ,3124, 3154 ,8664])\n",
    "    \n",
    "    if not is_accepted:\n",
    "        olm_return = online_loss_reg_max(new_phi = phi(stream[i]), phis_for_criticisms = phis_for_criticisms, \n",
    "                                         full_phi_sum = subsampler.total_sum_test, \n",
    "                                         proto_phi_sum = subsampler.sample_sum_test, \n",
    "                                         prototype_indices = prototype_indices, \n",
    "                                         criticism_indices = criticism_indices, n = i+1, \n",
    "                                         M = M, full_stream_phi = full_stream_phi, N = N,\n",
    "                                         stream = stream, gamma = 0.029)\n",
    "                                         #kernel_matrix = kernel_matrix)\n",
    "                                         #true_proto_indices = np.asarray([912, 755, 576, 919 ,962, 902 ,775 ,850 ,906, 948]))\n",
    "        criticism_indices = olm_return[0]\n",
    "        #print criticism_indices\n",
    "        #print criticism_indices\n",
    "        phis_for_criticisms = olm_return[1]"
   ]
  },
  {
   "cell_type": "code",
   "execution_count": null,
   "metadata": {
    "collapsed": true
   },
   "outputs": [],
   "source": [
    "M = 50\n",
    "N = 10000\n",
    "stream = mnist.train.images[:N]\n",
    "\n",
    "resultImages = online_loss_reg_max(stream, gamma, new_phi, phis_for_criticisms, \n",
    "                                   full_phi_sum, proto_phi_sum, prototype_indices, \n",
    "                                   criticism_indices, n, M, full_stream_phi, N):"
   ]
  },
  {
   "cell_type": "code",
   "execution_count": null,
   "metadata": {
    "collapsed": true
   },
   "outputs": [],
   "source": []
  }
 ],
 "metadata": {
  "kernelspec": {
   "display_name": "Python 2",
   "language": "python",
   "name": "python2"
  },
  "language_info": {
   "codemirror_mode": {
    "name": "ipython",
    "version": 2
   },
   "file_extension": ".py",
   "mimetype": "text/x-python",
   "name": "python",
   "nbconvert_exporter": "python",
   "pygments_lexer": "ipython2",
   "version": "2.7.12"
  }
 },
 "nbformat": 4,
 "nbformat_minor": 2
}
