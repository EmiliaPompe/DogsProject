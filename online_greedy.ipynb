{
 "cells": [
  {
   "cell_type": "code",
   "execution_count": 94,
   "metadata": {
    "collapsed": false
   },
   "outputs": [],
   "source": [
    "from sklearn.metrics.pairwise import rbf_kernel\n",
    "import numpy as np\n",
    "from scipy import sparse \n",
    "import sys\n",
    "from gaussiandata import SyntheticTarget\n",
    "from online_prototypes import greedy_select_protos_online\n",
    "from online_criticism import greedy_select_criticism_online\n",
    "#import greedy_functions\n",
    "import math\n",
    "import scipy"
   ]
  },
  {
   "cell_type": "code",
   "execution_count": 95,
   "metadata": {
    "collapsed": false
   },
   "outputs": [
    {
     "name": "stdout",
     "output_type": "stream",
     "text": [
      "2000\n",
      "[[ 2.58801945 -4.10201855]\n",
      " [-1.1745815  -3.81182871]\n",
      " [ 3.41529632 -3.59914177]]\n"
     ]
    }
   ],
   "source": [
    "SEED = 666\n",
    "number_of_gaussians = 2\n",
    "ex = SyntheticTarget(seed=SEED, dist_components=number_of_gaussians)\n",
    "\n",
    "N = 1000\n",
    "M = 10\n",
    "data = ex.draw_sample(N)\n",
    "print  data.size\n",
    "print data[(2,3,4),:]\n",
    "gamma = 2\n",
    "kernel_matrix = rbf_kernel(data, gamma = gamma)"
   ]
  },
  {
   "cell_type": "code",
   "execution_count": null,
   "metadata": {
    "collapsed": false
   },
   "outputs": [],
   "source": []
  },
  {
   "cell_type": "code",
   "execution_count": 64,
   "metadata": {
    "collapsed": false
   },
   "outputs": [
    {
     "name": "stdout",
     "output_type": "stream",
     "text": [
      "[[-1.67010453 -4.59664315]\n",
      " [ 3.34775394 -3.18054631]]\n",
      "[1, 2]\n"
     ]
    },
    {
     "data": {
      "text/plain": [
       "0.42457731180256464"
      ]
     },
     "execution_count": 64,
     "metadata": {},
     "output_type": "execute_result"
    }
   ],
   "source": []
  },
  {
   "cell_type": "code",
   "execution_count": 98,
   "metadata": {
    "collapsed": false
   },
   "outputs": [],
   "source": [
    "def rbf(x,y, gamma):\n",
    "    x = np.asarray(x)\n",
    "    y = np.asarray(y)\n",
    "    return scipy.exp(-gamma*np.linalg.norm(x-y))\n",
    "\n",
    "def our_rbf_kernel(current_kernel_subset,  gamma, x_new, n, M, data, current_indices):\n",
    "    new_row = np.zeros(n+1)\n",
    "    new_col = np.zeros(M+1)\n",
    "    for i in range(n+1):\n",
    "        new_row[i] = rbf(x = x_new, y = data[i], gamma = gamma)\n",
    "    print new_row.shape\n",
    "    new_col = new_row[current_indices]\n",
    "    print new_col.shape\n",
    "    new_kernel_subset = np.hstack((current_kernel_subset, new_col.transpose()))\n",
    "    new_kernel_subset = np.vstack((new_kernel_subset, new_row))\n",
    "    \n",
    "    return new_kernel_subset"
   ]
  },
  {
   "cell_type": "code",
   "execution_count": null,
   "metadata": {
    "collapsed": true
   },
   "outputs": [],
   "source": [
    "our_rbf_kernel(kernel_matrix)"
   ]
  },
  {
   "cell_type": "code",
   "execution_count": 99,
   "metadata": {
    "collapsed": false
   },
   "outputs": [
    {
     "name": "stdout",
     "output_type": "stream",
     "text": [
      "(10, 20)\n",
      "(10, 20)\n",
      "(10, 20)\n",
      "(21,)\n",
      "(10,)\n"
     ]
    },
    {
     "ename": "ValueError",
     "evalue": "all the input arrays must have same number of dimensions",
     "output_type": "error",
     "traceback": [
      "\u001b[0;31m---------------------------------------------------------------------------\u001b[0m",
      "\u001b[0;31mValueError\u001b[0m                                Traceback (most recent call last)",
      "\u001b[0;32m<ipython-input-99-5c69adc1160a>\u001b[0m in \u001b[0;36m<module>\u001b[0;34m()\u001b[0m\n\u001b[1;32m     28\u001b[0m         new_kernel_matrix_proto = our_rbf_kernel(current_kernel_subset = current_kernel_matrix_proto, gamma = gamma,  \n\u001b[1;32m     29\u001b[0m                                                  \u001b[0mx_new\u001b[0m\u001b[0;34m=\u001b[0m \u001b[0mdata\u001b[0m\u001b[0;34m[\u001b[0m\u001b[0mi\u001b[0m\u001b[0;34m]\u001b[0m\u001b[0;34m,\u001b[0m \u001b[0mn\u001b[0m \u001b[0;34m=\u001b[0m \u001b[0mi\u001b[0m\u001b[0;34m,\u001b[0m \u001b[0mM\u001b[0m \u001b[0;34m=\u001b[0m \u001b[0mM\u001b[0m\u001b[0;34m,\u001b[0m  \u001b[0mdata\u001b[0m \u001b[0;34m=\u001b[0m \u001b[0mdata\u001b[0m\u001b[0;34m[\u001b[0m\u001b[0mrange\u001b[0m\u001b[0;34m(\u001b[0m\u001b[0mi\u001b[0m\u001b[0;34m+\u001b[0m\u001b[0;36m1\u001b[0m\u001b[0;34m)\u001b[0m\u001b[0;34m]\u001b[0m\u001b[0;34m,\u001b[0m\u001b[0;34m\u001b[0m\u001b[0m\n\u001b[0;32m---> 30\u001b[0;31m                                                  current_indices = prototype_indices)\n\u001b[0m\u001b[1;32m     31\u001b[0m \u001b[0;34m\u001b[0m\u001b[0m\n\u001b[1;32m     32\u001b[0m         \u001b[0;32mprint\u001b[0m \u001b[0mnew_kernel_matrix_proto\u001b[0m\u001b[0;34m.\u001b[0m\u001b[0mshape\u001b[0m\u001b[0;34m\u001b[0m\u001b[0m\n",
      "\u001b[0;32m<ipython-input-98-74706ccd860e>\u001b[0m in \u001b[0;36mour_rbf_kernel\u001b[0;34m(current_kernel_subset, gamma, x_new, n, M, data, current_indices)\u001b[0m\n\u001b[1;32m     12\u001b[0m     \u001b[0mnew_col\u001b[0m \u001b[0;34m=\u001b[0m \u001b[0mnew_row\u001b[0m\u001b[0;34m[\u001b[0m\u001b[0mcurrent_indices\u001b[0m\u001b[0;34m]\u001b[0m\u001b[0;34m\u001b[0m\u001b[0m\n\u001b[1;32m     13\u001b[0m     \u001b[0;32mprint\u001b[0m \u001b[0mnew_col\u001b[0m\u001b[0;34m.\u001b[0m\u001b[0mshape\u001b[0m\u001b[0;34m\u001b[0m\u001b[0m\n\u001b[0;32m---> 14\u001b[0;31m     \u001b[0mnew_kernel_subset\u001b[0m \u001b[0;34m=\u001b[0m \u001b[0mnp\u001b[0m\u001b[0;34m.\u001b[0m\u001b[0mhstack\u001b[0m\u001b[0;34m(\u001b[0m\u001b[0;34m(\u001b[0m\u001b[0mcurrent_kernel_subset\u001b[0m\u001b[0;34m,\u001b[0m \u001b[0mnew_col\u001b[0m\u001b[0;34m.\u001b[0m\u001b[0mtranspose\u001b[0m\u001b[0;34m(\u001b[0m\u001b[0;34m)\u001b[0m\u001b[0;34m)\u001b[0m\u001b[0;34m)\u001b[0m\u001b[0;34m\u001b[0m\u001b[0m\n\u001b[0m\u001b[1;32m     15\u001b[0m     \u001b[0mnew_kernel_subset\u001b[0m \u001b[0;34m=\u001b[0m \u001b[0mnp\u001b[0m\u001b[0;34m.\u001b[0m\u001b[0mvstack\u001b[0m\u001b[0;34m(\u001b[0m\u001b[0;34m(\u001b[0m\u001b[0mnew_kernel_subset\u001b[0m\u001b[0;34m,\u001b[0m \u001b[0mnew_row\u001b[0m\u001b[0;34m)\u001b[0m\u001b[0;34m)\u001b[0m\u001b[0;34m\u001b[0m\u001b[0m\n\u001b[1;32m     16\u001b[0m \u001b[0;34m\u001b[0m\u001b[0m\n",
      "\u001b[0;32m/usr/lib64/python2.7/site-packages/numpy/core/shape_base.pyc\u001b[0m in \u001b[0;36mhstack\u001b[0;34m(tup)\u001b[0m\n\u001b[1;32m    278\u001b[0m         \u001b[0;32mreturn\u001b[0m \u001b[0m_nx\u001b[0m\u001b[0;34m.\u001b[0m\u001b[0mconcatenate\u001b[0m\u001b[0;34m(\u001b[0m\u001b[0marrs\u001b[0m\u001b[0;34m,\u001b[0m \u001b[0;36m0\u001b[0m\u001b[0;34m)\u001b[0m\u001b[0;34m\u001b[0m\u001b[0m\n\u001b[1;32m    279\u001b[0m     \u001b[0;32melse\u001b[0m\u001b[0;34m:\u001b[0m\u001b[0;34m\u001b[0m\u001b[0m\n\u001b[0;32m--> 280\u001b[0;31m         \u001b[0;32mreturn\u001b[0m \u001b[0m_nx\u001b[0m\u001b[0;34m.\u001b[0m\u001b[0mconcatenate\u001b[0m\u001b[0;34m(\u001b[0m\u001b[0marrs\u001b[0m\u001b[0;34m,\u001b[0m \u001b[0;36m1\u001b[0m\u001b[0;34m)\u001b[0m\u001b[0;34m\u001b[0m\u001b[0m\n\u001b[0m\u001b[1;32m    281\u001b[0m \u001b[0;34m\u001b[0m\u001b[0m\n\u001b[1;32m    282\u001b[0m \u001b[0;32mdef\u001b[0m \u001b[0mstack\u001b[0m\u001b[0;34m(\u001b[0m\u001b[0marrays\u001b[0m\u001b[0;34m,\u001b[0m \u001b[0maxis\u001b[0m\u001b[0;34m=\u001b[0m\u001b[0;36m0\u001b[0m\u001b[0;34m)\u001b[0m\u001b[0;34m:\u001b[0m\u001b[0;34m\u001b[0m\u001b[0m\n",
      "\u001b[0;31mValueError\u001b[0m: all the input arrays must have same number of dimensions"
     ]
    }
   ],
   "source": [
    "gamma = 2\n",
    "prototype_indices = np.arange(M) #assign first M points as prototypes. CONSIDER another method later.\n",
    "criticism_indices = np.arange(M, 2*M) # assign second M points as prototypes.\n",
    "\n",
    "#calculate the initial kernel matrix for the first M points\n",
    "#current_kernel_matrix_proto = rbf_kernel(data[prototype_indices,:], gamma=gamma)\n",
    "#print current_kernel_matrix_proto.shape\n",
    "\n",
    "#current_kernel_matrix_criticism = rbf_kernel(data[criticism_indices,:], gamma = gamma) #to check with Petya\n",
    "\n",
    "current_kernel_matrix = rbf_kernel(data[range(2*M)], gamma = gamma)\n",
    "current_kernel_matrix_proto = current_kernel_matrix[:M]\n",
    "current_kernel_matrix_criticism = current_kernel_matrix[range(M, 2*M)]\n",
    "print current_kernel_matrix_proto.shape\n",
    "print current_kernel_matrix_criticism.shape\n",
    "\n",
    "for i in range(2*M, N):\n",
    "    new_point_index = i # assign the new data point index\n",
    "    \n",
    "    accept = 1 # decide whether to skip the criticism part or not \n",
    "    \n",
    "    #prototype part\n",
    "    if accept == 1:\n",
    "        #add new column and row to the kernel matrix for the new point; \n",
    "        #kernel matrix is always growing\n",
    "        #current_kernel_subset,  gamma, x_new, n, timeseries):\n",
    "        print current_kernel_matrix_proto.shape\n",
    "        new_kernel_matrix_proto = our_rbf_kernel(current_kernel_subset = current_kernel_matrix_proto, gamma = gamma,  \n",
    "                                                 x_new= data[i], n = i, M = M,  data = data[range(i+1)], \n",
    "                                                 current_indices = prototype_indices)\n",
    "        \n",
    "        print new_kernel_matrix_proto.shape\n",
    "        #run the greedy algorithm on these M+1 data points to select M prototypes\n",
    "        prototype_indices_temp = greedy_select_protos_online(new_kernel_matrix_proto, \n",
    "                                                  selectedprotos = np.vstack((prototype_indices, i)), m = M)\n",
    "    \n",
    "        if (prototype_indices_temp == prototype_indices).all():\n",
    "            accept == 0\n",
    "        \n",
    "        else:\n",
    "            prototype_indices = prototype_indices_temp # update the indices\n",
    "            current_kernel_matrix_proto = new_kernel_matrix_proto # update the kernel matrix\n",
    "    \n",
    "    \n",
    "    #criticism part\n",
    "    if accept == 0:\n",
    "        \n",
    "        new_kernel_matrix_criticism = our_rbf_kernel(current_kernel_subset = current_kernel_matrix_criticism, \n",
    "                                                     gamma = gamma,  x_new= data[i], n = i, M = M, \n",
    "                                                     data = data[range(i+1)], current_indices = criticism_indices)\n",
    "        \n",
    "        #run the greedy algorithm on these M+1 data points to select M criticism\n",
    "        criticism_indices_temp = greedy_select_criticism_online(new_kernel_matrix_criticism, \n",
    "                                                  selectedprotos = prototype_indices, selectedcritic = criticism_indices, c = M, reg='logdet')\n",
    "\n",
    "        \n",
    "        if (criticism_indices_temp == criticism_indices).all():\n",
    "            accept == 0\n",
    "        \n",
    "        else:\n",
    "            criticism_indices = criticism_indices_temp # update the indices\n",
    "            current_kernel_matrix_criticism = new_kernel_matrix_criticism # update the kernel matrix\n",
    "    \n",
    "    "
   ]
  },
  {
   "cell_type": "code",
   "execution_count": null,
   "metadata": {
    "collapsed": false
   },
   "outputs": [],
   "source": [
    "np.arange(M+1)"
   ]
  },
  {
   "cell_type": "code",
   "execution_count": null,
   "metadata": {
    "collapsed": false
   },
   "outputs": [],
   "source": [
    "current_kernel_subset =  np.random.randn(5,10)\n",
    "our_rbf_kernel(current_kernel_subset = current_kernel_subset, gamma = 2, x_new = 6, n = 10, timeseries = np.arange(10))\n"
   ]
  },
  {
   "cell_type": "code",
   "execution_count": null,
   "metadata": {
    "collapsed": false
   },
   "outputs": [],
   "source": [
    "new_row = np.zeros(10)"
   ]
  },
  {
   "cell_type": "code",
   "execution_count": null,
   "metadata": {
    "collapsed": false
   },
   "outputs": [],
   "source": [
    "print new_row"
   ]
  },
  {
   "cell_type": "code",
   "execution_count": 1,
   "metadata": {
    "collapsed": false
   },
   "outputs": [
    {
     "data": {
      "text/plain": [
       "[0, 1, 2, 3, 4, 5, 6, 7, 8, 9]"
      ]
     },
     "execution_count": 1,
     "metadata": {},
     "output_type": "execute_result"
    }
   ],
   "source": [
    "range(10)"
   ]
  },
  {
   "cell_type": "code",
   "execution_count": null,
   "metadata": {
    "collapsed": true
   },
   "outputs": [],
   "source": [
    "A =  np.random.randn(5,10)\n",
    "B =  np.random.randn(5,10)\n"
   ]
  },
  {
   "cell_type": "code",
   "execution_count": 72,
   "metadata": {
    "collapsed": false
   },
   "outputs": [
    {
     "data": {
      "text/plain": [
       "[0, 1, 2, 3, 4, 5, 6, 7, 8, 9]"
      ]
     },
     "execution_count": 72,
     "metadata": {},
     "output_type": "execute_result"
    }
   ],
   "source": [
    "prototype_indices =range(M) \n",
    "prototype_indices"
   ]
  }
 ],
 "metadata": {
  "kernelspec": {
   "display_name": "Python 2",
   "language": "python",
   "name": "python2"
  },
  "language_info": {
   "codemirror_mode": {
    "name": "ipython",
    "version": 2
   },
   "file_extension": ".py",
   "mimetype": "text/x-python",
   "name": "python",
   "nbconvert_exporter": "python",
   "pygments_lexer": "ipython2",
   "version": "2.7.12"
  }
 },
 "nbformat": 4,
 "nbformat_minor": 2
}
