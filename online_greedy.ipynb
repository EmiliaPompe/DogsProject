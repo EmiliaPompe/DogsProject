{
 "cells": [
  {
   "cell_type": "code",
   "execution_count": 1,
   "metadata": {
    "collapsed": false
   },
   "outputs": [
    {
     "name": "stdout",
     "output_type": "stream",
     "text": [
      "(1000, 2) => 100\n"
     ]
    }
   ],
   "source": [
    "from sklearn.metrics.pairwise import rbf_kernel\n",
    "import numpy as np\n",
    "from scipy import sparse \n",
    "import sys\n",
    "from gaussiandata import SyntheticTarget\n",
    "from onlinePrototypes import protonline\n",
    "from onlineCriticism import crionline\n",
    "#import greedy_functions\n",
    "import math\n",
    "import scipy"
   ]
  },
  {
   "cell_type": "code",
   "execution_count": 2,
   "metadata": {
    "collapsed": false
   },
   "outputs": [
    {
     "name": "stdout",
     "output_type": "stream",
     "text": [
      "2000\n",
      "[[ 2.58801945 -4.10201855]\n",
      " [-1.1745815  -3.81182871]\n",
      " [ 3.41529632 -3.59914177]]\n"
     ]
    }
   ],
   "source": [
    "SEED = 666\n",
    "number_of_gaussians = 2\n",
    "ex = SyntheticTarget(seed=SEED, dist_components=number_of_gaussians)\n",
    "\n",
    "N = 1000\n",
    "M = 10\n",
    "data = ex.draw_sample(N)\n",
    "print  data.size\n",
    "print data[(2,3,4),:]\n",
    "gamma = 2\n",
    "kernel_matrix = rbf_kernel(data, gamma = gamma)"
   ]
  },
  {
   "cell_type": "code",
   "execution_count": null,
   "metadata": {
    "collapsed": false
   },
   "outputs": [],
   "source": []
  },
  {
   "cell_type": "code",
   "execution_count": null,
   "metadata": {
    "collapsed": false
   },
   "outputs": [],
   "source": []
  },
  {
   "cell_type": "code",
   "execution_count": 3,
   "metadata": {
    "collapsed": false
   },
   "outputs": [],
   "source": [
    "def rbf(x,y, gamma):\n",
    "    x = np.asarray(x)\n",
    "    y = np.asarray(y)\n",
    "    return scipy.exp(-gamma*np.linalg.norm(x-y))\n",
    "\n",
    "def our_rbf_kernel(current_kernel_subset,  gamma, x_new, n, M, data, current_indices):\n",
    "    new_row = np.zeros(n+1)\n",
    "    new_col = np.zeros(M)\n",
    "    for i in range(n+1):\n",
    "        new_row[i] = rbf(x = x_new, y = data[i], gamma = gamma)\n",
    "         \n",
    "    new_col = new_row[current_indices]\n",
    "    new_row = np.matrix(new_row)\n",
    "    new_col = np.matrix(new_col)\n",
    "\n",
    "    new_kernel_subset = np.hstack((current_kernel_subset, new_col.T))\n",
    "    new_kernel_subset = np.vstack((new_kernel_subset, new_row))\n",
    "    \n",
    "    return new_kernel_subset"
   ]
  },
  {
   "cell_type": "code",
   "execution_count": null,
   "metadata": {
    "collapsed": true
   },
   "outputs": [],
   "source": []
  },
  {
   "cell_type": "code",
   "execution_count": 4,
   "metadata": {
    "collapsed": false
   },
   "outputs": [
    {
     "name": "stdout",
     "output_type": "stream",
     "text": [
      "[0 1 2 3 4 5 6 7 8 9]\n",
      "[0, 1, 2, 3, 4, 5, 6, 7, 8, 9, 10]\n",
      "[ 0  1  2  3  4  5  6  7  8  9 20]\n",
      "[[ 0.2337025 ]\n",
      " [ 0.20655686]\n",
      " [ 0.23959615]\n",
      " [ 0.61542   ]\n",
      " [ 0.2905379 ]\n",
      " [ 0.38624166]\n",
      " [ 0.44004073]\n",
      " [ 0.50677863]\n",
      " [ 0.68791655]\n",
      " [ 0.26476668]\n",
      " [ 0.22448578]]\n",
      "(11, 21)\n",
      "k_subset2\n",
      "[[  1.00000000e+00   2.44384996e-24   1.09287834e-16   1.78538050e-01\n",
      "    4.70874142e-24   5.21208285e-01   2.43378493e-01   2.12726543e-03\n",
      "    5.76250991e-02   3.09682471e-23   1.41849232e-05]\n",
      " [  2.44384996e-24   1.00000000e+00   5.76932476e-02   7.76049625e-19\n",
      "    6.97977605e-01   4.56124011e-22   2.42770944e-17   9.61835919e-12\n",
      "    1.27530158e-17   1.14309993e-01   1.16831491e-01]\n",
      " [  1.09287834e-16   5.76932476e-02   1.00000000e+00   4.26675735e-13\n",
      "    1.53424889e-01   1.74644962e-15   3.77699449e-11   1.53614797e-07\n",
      "    2.00210962e-12   2.54595991e-01   7.39719771e-02]\n",
      " [  1.78538050e-01   7.76049625e-19   4.26675735e-13   1.00000000e+00\n",
      "    4.59371239e-19   6.94873514e-01   4.66579454e-01   1.32771655e-01\n",
      "    8.67428463e-01   4.22575889e-19   3.92153659e-05]\n",
      " [  4.70874142e-24   6.97977605e-01   1.53424889e-01   4.59371239e-19\n",
      "    1.00000000e+00   3.60523801e-22   3.82762544e-17   5.89542558e-12\n",
      "    5.29532433e-18   4.62239423e-01   2.48968626e-01]\n",
      " [  5.21208285e-01   4.56124011e-22   1.74644962e-15   6.94873514e-01\n",
      "    3.60523801e-22   1.00000000e+00   3.41814642e-01   1.94364669e-02\n",
      "    4.03421338e-01   5.95546756e-22   1.94456438e-05]\n",
      " [  2.43378493e-01   2.42770944e-17   3.77699449e-11   4.66579454e-01\n",
      "    3.82762544e-17   3.41814642e-01   1.00000000e+00   1.55989961e-01\n",
      "    2.88448713e-01   1.31770123e-16   7.28637691e-05]\n",
      " [  2.12726543e-03   9.61835919e-12   1.53614797e-07   1.32771655e-01\n",
      "    5.89542558e-12   1.94364669e-02   1.55989961e-01   1.00000000e+00\n",
      "    2.20165962e-01   3.70212743e-12   2.78641144e-04]\n",
      " [  5.76250991e-02   1.27530158e-17   2.00210962e-12   8.67428463e-01\n",
      "    5.29532433e-18   4.03421338e-01   2.88448713e-01   2.20165962e-01\n",
      "    1.00000000e+00   2.71970511e-18   4.89192083e-05]\n",
      " [  3.09682471e-23   1.14309993e-01   2.54595991e-01   4.22575889e-19\n",
      "    4.62239423e-01   5.95546756e-22   1.31770123e-16   3.70212743e-12\n",
      "    2.71970511e-18   1.00000000e+00   3.70439887e-01]\n",
      " [  1.41849232e-05   1.16831491e-01   7.39719771e-02   3.92153659e-05\n",
      "    2.48968626e-01   1.94456438e-05   7.28637691e-05   2.78641144e-04\n",
      "    4.89192083e-05   3.70439887e-01   1.00000000e+00]]\n",
      "s1\n",
      "[[ 0.2337025 ]\n",
      " [ 0.20655686]\n",
      " [ 0.23959615]\n",
      " [ 0.61542   ]\n",
      " [ 0.2905379 ]\n",
      " [ 0.38624166]\n",
      " [ 0.44004073]\n",
      " [ 0.50677863]\n",
      " [ 0.68791655]\n",
      " [ 0.26476668]\n",
      " [ 0.22448578]]\n",
      "diagonal K_subset2\n",
      "[ 1.  1.  1.  1.  1.  1.  1.  1.  1.  1.  1.]\n",
      "new s1\n",
      "[[ 0.2337025   0.2337025   0.2337025   0.2337025   0.2337025   0.2337025\n",
      "   0.2337025   0.2337025   0.2337025   0.2337025   0.2337025 ]\n",
      " [ 0.20655686  0.20655686  0.20655686  0.20655686  0.20655686  0.20655686\n",
      "   0.20655686  0.20655686  0.20655686  0.20655686  0.20655686]\n",
      " [ 0.23959615  0.23959615  0.23959615  0.23959615  0.23959615  0.23959615\n",
      "   0.23959615  0.23959615  0.23959615  0.23959615  0.23959615]\n",
      " [ 0.61542     0.61542     0.61542     0.61542     0.61542     0.61542\n",
      "   0.61542     0.61542     0.61542     0.61542     0.61542   ]\n",
      " [ 0.2905379   0.2905379   0.2905379   0.2905379   0.2905379   0.2905379\n",
      "   0.2905379   0.2905379   0.2905379   0.2905379   0.2905379 ]\n",
      " [ 0.38624166  0.38624166  0.38624166  0.38624166  0.38624166  0.38624166\n",
      "   0.38624166  0.38624166  0.38624166  0.38624166  0.38624166]\n",
      " [ 0.44004073  0.44004073  0.44004073  0.44004073  0.44004073  0.44004073\n",
      "   0.44004073  0.44004073  0.44004073  0.44004073  0.44004073]\n",
      " [ 0.50677863  0.50677863  0.50677863  0.50677863  0.50677863  0.50677863\n",
      "   0.50677863  0.50677863  0.50677863  0.50677863  0.50677863]\n",
      " [ 0.68791655  0.68791655  0.68791655  0.68791655  0.68791655  0.68791655\n",
      "   0.68791655  0.68791655  0.68791655  0.68791655  0.68791655]\n",
      " [ 0.26476668  0.26476668  0.26476668  0.26476668  0.26476668  0.26476668\n",
      "   0.26476668  0.26476668  0.26476668  0.26476668  0.26476668]\n",
      " [ 0.22448578  0.22448578  0.22448578  0.22448578  0.22448578  0.22448578\n",
      "   0.22448578  0.22448578  0.22448578  0.22448578  0.22448578]]\n",
      "altern comp s1\n",
      "[ 0.  0.  0.  0.  0.  0.  0.  0.  0.  0.  0.]\n",
      "<class 'numpy.matrixlib.defmatrix.matrix'>\n",
      "<type 'numpy.ndarray'>\n",
      "(11, 11)\n",
      "(11, 11)\n",
      "hello\n",
      "88\n"
     ]
    },
    {
     "ename": "IndexError",
     "evalue": "index 88 is out of bounds for axis 0 with size 11",
     "output_type": "error",
     "traceback": [
      "\u001b[0;31m---------------------------------------------------------------------------\u001b[0m",
      "\u001b[0;31mIndexError\u001b[0m                                Traceback (most recent call last)",
      "\u001b[0;32m<ipython-input-4-ba79c0d3f08f>\u001b[0m in \u001b[0;36m<module>\u001b[0;34m()\u001b[0m\n\u001b[1;32m     32\u001b[0m         \u001b[0;32mprint\u001b[0m \u001b[0mprototype_indices\u001b[0m\u001b[0;34m\u001b[0m\u001b[0m\n\u001b[1;32m     33\u001b[0m         prototype_indices_temp = protonline(new_kernel_matrix_proto, \n\u001b[0;32m---> 34\u001b[0;31m                                                   selectedprotos = prototype_indices, m = M)\n\u001b[0m\u001b[1;32m     35\u001b[0m \u001b[0;34m\u001b[0m\u001b[0m\n\u001b[1;32m     36\u001b[0m         \u001b[0;32mif\u001b[0m \u001b[0;34m(\u001b[0m\u001b[0mprototype_indices_temp\u001b[0m \u001b[0;34m==\u001b[0m \u001b[0mprototype_indices\u001b[0m\u001b[0;34m)\u001b[0m\u001b[0;34m.\u001b[0m\u001b[0mall\u001b[0m\u001b[0;34m(\u001b[0m\u001b[0;34m)\u001b[0m\u001b[0;34m:\u001b[0m\u001b[0;34m\u001b[0m\u001b[0m\n",
      "\u001b[0;32m/homes/aglietti/Workspace/DogsProject/onlinePrototypes.py\u001b[0m in \u001b[0;36mprotonline\u001b[0;34m(K_subset, selectedprotos, m)\u001b[0m\n\u001b[1;32m     71\u001b[0m         \u001b[0;32mprint\u001b[0m \u001b[0;34m\"hello\"\u001b[0m\u001b[0;34m\u001b[0m\u001b[0m\n\u001b[1;32m     72\u001b[0m         \u001b[0;32mprint\u001b[0m \u001b[0mnp\u001b[0m\u001b[0;34m.\u001b[0m\u001b[0margmax\u001b[0m\u001b[0;34m(\u001b[0m\u001b[0ms1array\u001b[0m\u001b[0;34m)\u001b[0m\u001b[0;34m\u001b[0m\u001b[0m\n\u001b[0;32m---> 73\u001b[0;31m         \u001b[0margmax\u001b[0m \u001b[0;34m=\u001b[0m \u001b[0mcandidates\u001b[0m\u001b[0;34m[\u001b[0m\u001b[0mnp\u001b[0m\u001b[0;34m.\u001b[0m\u001b[0margmax\u001b[0m\u001b[0;34m(\u001b[0m\u001b[0ms1array\u001b[0m\u001b[0;34m)\u001b[0m\u001b[0;34m]\u001b[0m\u001b[0;34m\u001b[0m\u001b[0m\n\u001b[0m\u001b[1;32m     74\u001b[0m         \u001b[0mselected\u001b[0m \u001b[0;34m=\u001b[0m \u001b[0mnp\u001b[0m\u001b[0;34m.\u001b[0m\u001b[0mappend\u001b[0m\u001b[0;34m(\u001b[0m\u001b[0mselected\u001b[0m\u001b[0;34m,\u001b[0m \u001b[0margmax\u001b[0m\u001b[0;34m)\u001b[0m\u001b[0;34m\u001b[0m\u001b[0m\n\u001b[1;32m     75\u001b[0m \u001b[0;34m\u001b[0m\u001b[0m\n",
      "\u001b[0;31mIndexError\u001b[0m: index 88 is out of bounds for axis 0 with size 11"
     ]
    }
   ],
   "source": [
    "gamma = 2\n",
    "prototype_indices = np.arange(M) #assign first M points as prototypes. CONSIDER another method later.\n",
    "criticism_indices = np.arange(M, 2*M) # assign second M points as prototypes.\n",
    "\n",
    "#calculate the initial kernel matrix for the first M points\n",
    "#current_kernel_matrix_proto = rbf_kernel(data[prototype_indices,:], gamma=gamma)\n",
    "\n",
    "\n",
    "#current_kernel_matrix_criticism = rbf_kernel(data[criticism_indices,:], gamma = gamma) #to check with Petya\n",
    "\n",
    "current_kernel_matrix = rbf_kernel(data[range(2*M)], gamma = gamma)\n",
    "current_kernel_matrix_proto = current_kernel_matrix[:M]\n",
    "current_kernel_matrix_criticism = current_kernel_matrix[range(M, 2*M)]\n",
    "\n",
    "\n",
    "for i in range(2*M, N):\n",
    "    \n",
    "    new_point_index = i # assign the new data point index\n",
    "    accept = 1 # decide whether to skip the criticism part or not \n",
    "    \n",
    "    #prototype part\n",
    "    if accept == 1:\n",
    "        #add new column and row to the kernel matrix for the new point; \n",
    "        #kernel matrix is always growing\n",
    "        #current_kernel_subset,  gamma, x_new, n, timeseries):\n",
    "\n",
    "        new_kernel_matrix_proto = our_rbf_kernel(current_kernel_subset = current_kernel_matrix_proto, gamma = gamma,  \n",
    "                                                 x_new= data[i], n = i, M = M,  data = data[range(i+1)], \n",
    "                                                 current_indices = prototype_indices)\n",
    "\n",
    "        #run the greedy algorithm on these M+1 data points to select M prototypes\n",
    "        print prototype_indices\n",
    "        prototype_indices_temp = protonline(new_kernel_matrix_proto, \n",
    "                                                  selectedprotos = prototype_indices, m = M)\n",
    "           \n",
    "        if (prototype_indices_temp == prototype_indices).all():\n",
    "            accept == 0\n",
    "        \n",
    "        else:\n",
    "            prototype_indices = prototype_indices_temp # update the indices\n",
    "            current_kernel_matrix_proto = new_kernel_matrix_proto # update the kernel matrix\n",
    "    \n",
    "    \n",
    "    #criticism part\n",
    "    if accept == 0:\n",
    "        \n",
    "        new_kernel_matrix_criticism = our_rbf_kernel(current_kernel_subset = current_kernel_matrix_criticism, \n",
    "                                                     gamma = gamma,  x_new= data[i], n = i, M = M, \n",
    "                                                     data = data[range(i+1)], current_indices = criticism_indices)\n",
    "        \n",
    "        #run the greedy algorithm on these M+1 data points to select M criticism\n",
    "        criticism_indices_temp = crionline(new_kernel_matrix_criticism, \n",
    "                                                  selectedprotos = prototype_indices, selectedcritic = criticism_indices, c = M, reg='logdet')\n",
    "\n",
    "        \n",
    "        if (criticism_indices_temp == criticism_indices).all():\n",
    "            accept == 0\n",
    "        \n",
    "        else:\n",
    "            criticism_indices = criticism_indices_temp # update the indices\n",
    "            current_kernel_matrix_criticism = new_kernel_matrix_criticism # update the kernel matrix\n",
    "    \n",
    "    "
   ]
  },
  {
   "cell_type": "code",
   "execution_count": null,
   "metadata": {
    "collapsed": false
   },
   "outputs": [],
   "source": [
    "np.arange(M+1)"
   ]
  },
  {
   "cell_type": "code",
   "execution_count": null,
   "metadata": {
    "collapsed": false
   },
   "outputs": [],
   "source": [
    "current_kernel_subset =  np.random.randn(5,10)\n",
    "our_rbf_kernel(current_kernel_subset = current_kernel_subset, gamma = 2, x_new = 6, n = 10, timeseries = np.arange(10))\n"
   ]
  },
  {
   "cell_type": "code",
   "execution_count": null,
   "metadata": {
    "collapsed": false
   },
   "outputs": [],
   "source": [
    "new_row = np.zeros(10)"
   ]
  },
  {
   "cell_type": "code",
   "execution_count": null,
   "metadata": {
    "collapsed": false
   },
   "outputs": [],
   "source": [
    "print new_row"
   ]
  },
  {
   "cell_type": "code",
   "execution_count": 1,
   "metadata": {
    "collapsed": false
   },
   "outputs": [
    {
     "data": {
      "text/plain": [
       "[0, 1, 2, 3, 4, 5, 6, 7, 8, 9]"
      ]
     },
     "execution_count": 1,
     "metadata": {},
     "output_type": "execute_result"
    }
   ],
   "source": [
    "range(10)"
   ]
  },
  {
   "cell_type": "code",
   "execution_count": null,
   "metadata": {
    "collapsed": true
   },
   "outputs": [],
   "source": [
    "A =  np.random.randn(5,10)\n",
    "B =  np.random.randn(5,10)\n"
   ]
  },
  {
   "cell_type": "code",
   "execution_count": 72,
   "metadata": {
    "collapsed": false
   },
   "outputs": [
    {
     "data": {
      "text/plain": [
       "[0, 1, 2, 3, 4, 5, 6, 7, 8, 9]"
      ]
     },
     "execution_count": 72,
     "metadata": {},
     "output_type": "execute_result"
    }
   ],
   "source": [
    "prototype_indices =range(M) \n",
    "prototype_indices"
   ]
  },
  {
   "cell_type": "code",
   "execution_count": 88,
   "metadata": {
    "collapsed": false
   },
   "outputs": [
    {
     "ename": "IndexError",
     "evalue": "index 88 is out of bounds for axis 0 with size 11",
     "output_type": "error",
     "traceback": [
      "\u001b[0;31m---------------------------------------------------------------------------\u001b[0m",
      "\u001b[0;31mIndexError\u001b[0m                                Traceback (most recent call last)",
      "\u001b[0;32m<ipython-input-88-450dbdfc6bf9>\u001b[0m in \u001b[0;36m<module>\u001b[0;34m()\u001b[0m\n\u001b[0;32m----> 1\u001b[0;31m \u001b[0mgreedy_select_protos_online\u001b[0m\u001b[0;34m(\u001b[0m\u001b[0mnew_kernel_matrix_proto\u001b[0m\u001b[0;34m,\u001b[0m \u001b[0mselectedprotos\u001b[0m \u001b[0;34m=\u001b[0m \u001b[0mprototype_indices\u001b[0m\u001b[0;34m,\u001b[0m \u001b[0mm\u001b[0m \u001b[0;34m=\u001b[0m \u001b[0mM\u001b[0m\u001b[0;34m)\u001b[0m\u001b[0;34m\u001b[0m\u001b[0m\n\u001b[0m",
      "\u001b[0;32m/homes/aglietti/Workspace/DogsProject/online_prototypes.py\u001b[0m in \u001b[0;36mgreedy_select_protos_online\u001b[0;34m(K_subset, selectedprotos, m)\u001b[0m\n\u001b[1;32m     43\u001b[0m             \u001b[0;32mprint\u001b[0m \u001b[0mcandidates\u001b[0m\u001b[0;34m.\u001b[0m\u001b[0mshape\u001b[0m\u001b[0;34m\u001b[0m\u001b[0m\n\u001b[1;32m     44\u001b[0m             \u001b[0;32mprint\u001b[0m \u001b[0mselected\u001b[0m\u001b[0;34m.\u001b[0m\u001b[0mshape\u001b[0m\u001b[0;34m\u001b[0m\u001b[0m\n\u001b[0;32m---> 45\u001b[0;31m             \u001b[0;32mprint\u001b[0m \u001b[0mcandidates2\u001b[0m\u001b[0;34m.\u001b[0m\u001b[0mshape\u001b[0m\u001b[0;34m\u001b[0m\u001b[0m\n\u001b[0m\u001b[1;32m     46\u001b[0m             \u001b[0mtemp\u001b[0m \u001b[0;34m=\u001b[0m \u001b[0mK_subset\u001b[0m\u001b[0;34m[\u001b[0m\u001b[0mcandidates\u001b[0m\u001b[0;34m,\u001b[0m \u001b[0mcandidates2\u001b[0m\u001b[0;34m[\u001b[0m\u001b[0mselected\u001b[0m\u001b[0;34m]\u001b[0m\u001b[0;34m]\u001b[0m\u001b[0;34m\u001b[0m\u001b[0m\n\u001b[1;32m     47\u001b[0m             \u001b[0mK_subset2\u001b[0m \u001b[0;34m=\u001b[0m \u001b[0mK_subset\u001b[0m\u001b[0;34m[\u001b[0m\u001b[0mcandidates\u001b[0m\u001b[0;34m,\u001b[0m\u001b[0mcandidates2\u001b[0m\u001b[0;34m[\u001b[0m\u001b[0mcandidates\u001b[0m\u001b[0;34m]\u001b[0m\u001b[0;34m]\u001b[0m\u001b[0;34m\u001b[0m\u001b[0m\n",
      "\u001b[0;31mIndexError\u001b[0m: index 88 is out of bounds for axis 0 with size 11"
     ]
    }
   ],
   "source": [
    "print s1array.shape"
   ]
  },
  {
   "cell_type": "code",
   "execution_count": 5,
   "metadata": {
    "collapsed": false
   },
   "outputs": [
    {
     "ename": "NameError",
     "evalue": "name 's1array' is not defined",
     "output_type": "error",
     "traceback": [
      "\u001b[0;31m---------------------------------------------------------------------------\u001b[0m",
      "\u001b[0;31mNameError\u001b[0m                                 Traceback (most recent call last)",
      "\u001b[0;32m<ipython-input-5-2fd5053aed49>\u001b[0m in \u001b[0;36m<module>\u001b[0;34m()\u001b[0m\n\u001b[0;32m----> 1\u001b[0;31m \u001b[0;32mprint\u001b[0m \u001b[0ms1array\u001b[0m\u001b[0;34m.\u001b[0m\u001b[0mshape\u001b[0m\u001b[0;34m\u001b[0m\u001b[0m\n\u001b[0m",
      "\u001b[0;31mNameError\u001b[0m: name 's1array' is not defined"
     ]
    }
   ],
   "source": [
    "print s1array.shape"
   ]
  }
 ],
 "metadata": {
  "kernelspec": {
   "display_name": "Python 2",
   "language": "python",
   "name": "python2"
  },
  "language_info": {
   "codemirror_mode": {
    "name": "ipython",
    "version": 2
   },
   "file_extension": ".py",
   "mimetype": "text/x-python",
   "name": "python",
   "nbconvert_exporter": "python",
   "pygments_lexer": "ipython2",
   "version": "2.7.12"
  }
 },
 "nbformat": 4,
 "nbformat_minor": 2
}
