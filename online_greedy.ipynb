{
 "cells": [
  {
   "cell_type": "code",
   "execution_count": 1,
   "metadata": {
    "collapsed": false
   },
   "outputs": [
    {
     "name": "stdout",
     "output_type": "stream",
     "text": [
      "(1000, 2) => 100\n"
     ]
    }
   ],
   "source": [
    "from sklearn.metrics.pairwise import rbf_kernel\n",
    "import numpy as np\n",
    "from scipy import sparse \n",
    "import sys\n",
    "from gaussiandata import SyntheticTarget\n",
    "from onlinePrototypes import protonline\n",
    "from onlineCriticism import crionline\n",
    "#import greedy_functions\n",
    "import math\n",
    "import scipy"
   ]
  },
  {
   "cell_type": "code",
   "execution_count": 2,
   "metadata": {
    "collapsed": false
   },
   "outputs": [
    {
     "name": "stdout",
     "output_type": "stream",
     "text": [
      "2000\n",
      "[[ 2.58801945 -4.10201855]\n",
      " [-1.1745815  -3.81182871]\n",
      " [ 3.41529632 -3.59914177]]\n"
     ]
    }
   ],
   "source": [
    "SEED = 666\n",
    "number_of_gaussians = 2\n",
    "ex = SyntheticTarget(seed=SEED, dist_components=number_of_gaussians)\n",
    "\n",
    "N = 1000\n",
    "M = 10\n",
    "data = ex.draw_sample(N)\n",
    "print  data.size\n",
    "print data[(2,3,4),:]\n",
    "gamma = 2\n",
    "kernel_matrix = rbf_kernel(data, gamma = gamma)"
   ]
  },
  {
   "cell_type": "code",
   "execution_count": 3,
   "metadata": {
    "collapsed": false
   },
   "outputs": [],
   "source": [
    "def rbf(x,y, gamma):\n",
    "    x = np.asarray(x)\n",
    "    y = np.asarray(y)\n",
    "    return scipy.exp(-gamma*np.linalg.norm(x-y))\n",
    "\n",
    "def our_rbf_kernel(current_kernel_subset,  gamma, x_new, n, M, data, current_indices):\n",
    "    print \"we are in the update kernel\"\n",
    "    new_row = np.zeros(n+1)\n",
    "    new_col = np.zeros(M)\n",
    "    for i in range(n+1):\n",
    "        new_row[i] = rbf(x = x_new, y = data[i], gamma = gamma)\n",
    "         \n",
    "    new_col = new_row[current_indices]\n",
    "    new_row = np.matrix(new_row)\n",
    "    new_col = np.matrix(new_col)\n",
    "\n",
    "    new_kernel_subset = np.hstack((current_kernel_subset, new_col.T))\n",
    "    new_kernel_subset = np.vstack((new_kernel_subset, new_row))\n",
    "    \n",
    "    return new_kernel_subset"
   ]
  },
  {
   "cell_type": "code",
   "execution_count": 36,
   "metadata": {
    "collapsed": false,
    "scrolled": true
   },
   "outputs": [
    {
     "name": "stdout",
     "output_type": "stream",
     "text": [
      "here\n",
      "i\n",
      "20\n",
      "we are in the update kernel\n",
      "[ 0  1  2  3  4  6  7  8  9 20]\n",
      "[0 1 2 3 4 5 6 7 8 9]\n",
      "False\n",
      "ciao\n",
      "the point is accepted\n",
      "prototype_indices\n",
      "[0 1 2 3 4 5 6 7 8 9]\n",
      "prototype_indices_temp\n",
      "[ 0  1  2  3  4  6  7  8  9 20]\n",
      "current_kernel_matrix_proto\n",
      "(10, 20)\n",
      "new_kernel_matrix_proto\n",
      "(11, 21)\n",
      "difference\n",
      "[5]\n",
      "[5]\n",
      "(11, 21)\n",
      "(10, 21)\n",
      "20\n",
      "accept\n",
      "1\n",
      "here\n",
      "i\n",
      "21\n",
      "we are in the update kernel\n",
      "[ 0  2  3  4  6  7  8  9 20 21]\n",
      "[ 0  1  2  3  4  6  7  8  9 20]\n",
      "False\n",
      "ciao\n",
      "the point is accepted\n",
      "prototype_indices\n",
      "[ 0  1  2  3  4  6  7  8  9 20]\n",
      "prototype_indices_temp\n",
      "[ 0  2  3  4  6  7  8  9 20 21]\n",
      "current_kernel_matrix_proto\n",
      "(10, 21)\n",
      "new_kernel_matrix_proto\n",
      "(11, 22)\n",
      "difference\n",
      "[1]\n",
      "[1]\n",
      "(11, 22)\n",
      "(10, 22)\n",
      "21\n",
      "accept\n",
      "1\n",
      "here\n",
      "i\n",
      "22\n",
      "we are in the update kernel\n",
      "[ 0  2  3  4  6  7  8  9 20 22]\n",
      "[ 0  2  3  4  6  7  8  9 20 21]\n",
      "False\n",
      "ciao\n",
      "the point is accepted\n",
      "prototype_indices\n",
      "[ 0  2  3  4  6  7  8  9 20 21]\n",
      "prototype_indices_temp\n",
      "[ 0  2  3  4  6  7  8  9 20 22]\n",
      "current_kernel_matrix_proto\n",
      "(10, 22)\n",
      "new_kernel_matrix_proto\n",
      "(11, 23)\n",
      "difference\n",
      "[21]\n",
      "[9]\n",
      "(11, 23)\n",
      "(10, 23)\n",
      "22\n",
      "accept\n",
      "1\n",
      "here\n",
      "i\n",
      "23\n",
      "we are in the update kernel\n",
      "[ 0  2  3  4  6  7  8  9 22 23]\n",
      "[ 0  2  3  4  6  7  8  9 20 22]\n",
      "False\n",
      "ciao\n",
      "the point is accepted\n",
      "prototype_indices\n",
      "[ 0  2  3  4  6  7  8  9 20 22]\n",
      "prototype_indices_temp\n",
      "[ 0  2  3  4  6  7  8  9 22 23]\n",
      "current_kernel_matrix_proto\n",
      "(10, 23)\n",
      "new_kernel_matrix_proto\n",
      "(11, 24)\n",
      "difference\n",
      "[20]\n",
      "[8]\n",
      "(11, 24)\n",
      "(10, 24)\n",
      "23\n",
      "accept\n",
      "1\n",
      "here\n",
      "i\n",
      "24\n",
      "we are in the update kernel\n",
      "[ 0  2  3  4  6  7  8  9 22 23]\n",
      "[ 0  2  3  4  6  7  8  9 22 23]\n",
      "True\n",
      "the point is not accepted\n",
      "we are in the update kernel\n"
     ]
    },
    {
     "ename": "ValueError",
     "evalue": "all the input array dimensions except for the concatenation axis must match exactly",
     "output_type": "error",
     "traceback": [
      "\u001b[0;31m---------------------------------------------------------------------------\u001b[0m",
      "\u001b[0;31mValueError\u001b[0m                                Traceback (most recent call last)",
      "\u001b[0;32m<ipython-input-36-8302d8c5f172>\u001b[0m in \u001b[0;36m<module>\u001b[0;34m()\u001b[0m\n\u001b[1;32m     51\u001b[0m         new_kernel_matrix_criticism = our_rbf_kernel(current_kernel_subset = current_kernel_matrix_criticism, \n\u001b[1;32m     52\u001b[0m                                                      \u001b[0mgamma\u001b[0m \u001b[0;34m=\u001b[0m \u001b[0mgamma\u001b[0m\u001b[0;34m,\u001b[0m  \u001b[0mx_new\u001b[0m\u001b[0;34m=\u001b[0m \u001b[0mdata\u001b[0m\u001b[0;34m[\u001b[0m\u001b[0mi\u001b[0m\u001b[0;34m]\u001b[0m\u001b[0;34m,\u001b[0m \u001b[0mn\u001b[0m \u001b[0;34m=\u001b[0m \u001b[0mi\u001b[0m\u001b[0;34m,\u001b[0m \u001b[0mM\u001b[0m \u001b[0;34m=\u001b[0m \u001b[0mM\u001b[0m\u001b[0;34m,\u001b[0m\u001b[0;34m\u001b[0m\u001b[0m\n\u001b[0;32m---> 53\u001b[0;31m                                                      data = data[range(i+1)], current_indices = criticism_indices)\n\u001b[0m\u001b[1;32m     54\u001b[0m \u001b[0;34m\u001b[0m\u001b[0m\n\u001b[1;32m     55\u001b[0m         \u001b[0;31m#run the greedy algorithm on these M+1 data points to select M criticism\u001b[0m\u001b[0;34m\u001b[0m\u001b[0;34m\u001b[0m\u001b[0m\n",
      "\u001b[0;32m<ipython-input-3-35666cd45e73>\u001b[0m in \u001b[0;36mour_rbf_kernel\u001b[0;34m(current_kernel_subset, gamma, x_new, n, M, data, current_indices)\u001b[0m\n\u001b[1;32m     16\u001b[0m \u001b[0;34m\u001b[0m\u001b[0m\n\u001b[1;32m     17\u001b[0m     \u001b[0mnew_kernel_subset\u001b[0m \u001b[0;34m=\u001b[0m \u001b[0mnp\u001b[0m\u001b[0;34m.\u001b[0m\u001b[0mhstack\u001b[0m\u001b[0;34m(\u001b[0m\u001b[0;34m(\u001b[0m\u001b[0mcurrent_kernel_subset\u001b[0m\u001b[0;34m,\u001b[0m \u001b[0mnew_col\u001b[0m\u001b[0;34m.\u001b[0m\u001b[0mT\u001b[0m\u001b[0;34m)\u001b[0m\u001b[0;34m)\u001b[0m\u001b[0;34m\u001b[0m\u001b[0m\n\u001b[0;32m---> 18\u001b[0;31m     \u001b[0mnew_kernel_subset\u001b[0m \u001b[0;34m=\u001b[0m \u001b[0mnp\u001b[0m\u001b[0;34m.\u001b[0m\u001b[0mvstack\u001b[0m\u001b[0;34m(\u001b[0m\u001b[0;34m(\u001b[0m\u001b[0mnew_kernel_subset\u001b[0m\u001b[0;34m,\u001b[0m \u001b[0mnew_row\u001b[0m\u001b[0;34m)\u001b[0m\u001b[0;34m)\u001b[0m\u001b[0;34m\u001b[0m\u001b[0m\n\u001b[0m\u001b[1;32m     19\u001b[0m \u001b[0;34m\u001b[0m\u001b[0m\n\u001b[1;32m     20\u001b[0m     \u001b[0;32mreturn\u001b[0m \u001b[0mnew_kernel_subset\u001b[0m\u001b[0;34m\u001b[0m\u001b[0m\n",
      "\u001b[0;32m/usr/lib64/python2.7/site-packages/numpy/core/shape_base.pyc\u001b[0m in \u001b[0;36mvstack\u001b[0;34m(tup)\u001b[0m\n\u001b[1;32m    228\u001b[0m \u001b[0;34m\u001b[0m\u001b[0m\n\u001b[1;32m    229\u001b[0m     \"\"\"\n\u001b[0;32m--> 230\u001b[0;31m     \u001b[0;32mreturn\u001b[0m \u001b[0m_nx\u001b[0m\u001b[0;34m.\u001b[0m\u001b[0mconcatenate\u001b[0m\u001b[0;34m(\u001b[0m\u001b[0;34m[\u001b[0m\u001b[0matleast_2d\u001b[0m\u001b[0;34m(\u001b[0m\u001b[0m_m\u001b[0m\u001b[0;34m)\u001b[0m \u001b[0;32mfor\u001b[0m \u001b[0m_m\u001b[0m \u001b[0;32min\u001b[0m \u001b[0mtup\u001b[0m\u001b[0;34m]\u001b[0m\u001b[0;34m,\u001b[0m \u001b[0;36m0\u001b[0m\u001b[0;34m)\u001b[0m\u001b[0;34m\u001b[0m\u001b[0m\n\u001b[0m\u001b[1;32m    231\u001b[0m \u001b[0;34m\u001b[0m\u001b[0m\n\u001b[1;32m    232\u001b[0m \u001b[0;32mdef\u001b[0m \u001b[0mhstack\u001b[0m\u001b[0;34m(\u001b[0m\u001b[0mtup\u001b[0m\u001b[0;34m)\u001b[0m\u001b[0;34m:\u001b[0m\u001b[0;34m\u001b[0m\u001b[0m\n",
      "\u001b[0;31mValueError\u001b[0m: all the input array dimensions except for the concatenation axis must match exactly"
     ]
    }
   ],
   "source": [
    "gamma = 2\n",
    "prototype_indices = np.arange(M) #assign first M points as prototypes. CONSIDER another method later.\n",
    "criticism_indices = np.arange(M, 2*M) # assign second M points as prototypes.\n",
    "\n",
    "#calculate the initial kernel matrix for the first M points\n",
    "#current_kernel_matrix_proto = rbf_kernel(data[prototype_indices,:], gamma=gamma)\n",
    "\n",
    "\n",
    "#current_kernel_matrix_criticism = rbf_kernel(data[criticism_indices,:], gamma = gamma) #to check with Petya\n",
    "\n",
    "current_kernel_matrix = rbf_kernel(data[range(2*M)], gamma = gamma)\n",
    "current_kernel_matrix_proto = current_kernel_matrix[:M]\n",
    "current_kernel_matrix_criticism = current_kernel_matrix[range(M, 2*M)]\n",
    "\n",
    "\n",
    "for i in range(2*M, N):\n",
    "    \n",
    "    new_point_index = i # assign the new data point index\n",
    "    accept = 1 # decide whether to skip the criticism part or not \n",
    "    \n",
    "    #prototype part\n",
    "    #if accept == 1:\n",
    "        #add new column and row to the kernel matrix for the new point; \n",
    "        #kernel matrix is always growing\n",
    "        #current_kernel_subset,  gamma, x_new, n, timeseries):\n",
    "        \n",
    "    print \"here\"\n",
    "    print \"i\"\n",
    "    print i\n",
    "\n",
    "    new_kernel_matrix_proto = our_rbf_kernel(current_kernel_subset = current_kernel_matrix_proto, gamma = gamma,  \n",
    "                                                 x_new= data[i], n = i, M = M,  data = data[range(i+1)], \n",
    "                                                 current_indices = prototype_indices)\n",
    "\n",
    "        #run the greedy algorithm on these M+1 data points to select M prototypes\n",
    "        #print prototype_indices\n",
    "    prototype_indices_temp = protonline(new_kernel_matrix_proto, \n",
    "                                                  selectedprotos = prototype_indices, m = M)\n",
    "        #print \"prototype_indices_temp\"\n",
    "        #print type(prototype_indices_temp)\n",
    "        #print \"prototype_indices\"\n",
    "        #print type(prototype_indices)\n",
    "    prototype_indices_temp = np.sort(prototype_indices_temp)\n",
    "    prototype_indices = np.sort(prototype_indices)\n",
    "    print prototype_indices_temp\n",
    "    print prototype_indices\n",
    "    print all(prototype_indices_temp == prototype_indices)\n",
    "    if all(prototype_indices_temp == prototype_indices):\n",
    "        #accept = 0 \n",
    "        print \"the point is not accepted\"\n",
    "        new_kernel_matrix_criticism = our_rbf_kernel(current_kernel_subset = current_kernel_matrix_criticism, \n",
    "                                                     gamma = gamma,  x_new= data[i], n = i, M = M, \n",
    "                                                     data = data[range(i+1)], current_indices = criticism_indices)\n",
    "        \n",
    "        #run the greedy algorithm on these M+1 data points to select M criticism\n",
    "        criticism_indices_temp = crionline(new_kernel_matrix_criticism, \n",
    "                                                  selectedprotos = prototype_indices, \n",
    "                                                  selectedcritic = criticism_indices, c = M, reg='logdet')\n",
    "\n",
    "        \n",
    "        if (criticism_indices_temp == criticism_indices).all():\n",
    "            accept = 0\n",
    "        \n",
    "        else:\n",
    "            criticism_indices = criticism_indices_temp # update the indices\n",
    "            current_kernel_matrix_criticism = new_kernel_matrix_criticism # update the kernel matrix\n",
    "        \n",
    "    else:\n",
    "        print \"ciao\"\n",
    "        print \"the point is accepted\"\n",
    "        print \"prototype_indices\"\n",
    "        print prototype_indices\n",
    "        print \"prototype_indices_temp\"\n",
    "        print prototype_indices_temp\n",
    "        print \"current_kernel_matrix_proto\"\n",
    "        #print current_kernel_matrix_proto\n",
    "        print current_kernel_matrix_proto.shape\n",
    "        print \"new_kernel_matrix_proto\"\n",
    "        #print new_kernel_matrix_proto\n",
    "        print new_kernel_matrix_proto.shape\n",
    "        print \"difference\"\n",
    "        difference = np.setdiff1d(prototype_indices, prototype_indices_temp)\n",
    "        print difference\n",
    "        to_select = np.where(prototype_indices == difference)[0]\n",
    "        print to_select\n",
    "           \n",
    "        prototype_indices = prototype_indices_temp # update the indices\n",
    "        print new_kernel_matrix_proto.shape\n",
    "        current_kernel_matrix_proto = np.delete(new_kernel_matrix_proto, to_select,0) # update the kernel matrix\n",
    "        print current_kernel_matrix_proto.shape\n",
    "  \n",
    "    print i \n",
    "    print \"accept\"\n",
    "    print accept "
   ]
  },
  {
   "cell_type": "code",
   "execution_count": 34,
   "metadata": {
    "collapsed": false
   },
   "outputs": [
    {
     "name": "stdout",
     "output_type": "stream",
     "text": [
      "[]\n"
     ]
    }
   ],
   "source": [
    "a = np.array([5,2,1,6])\n",
    "b = np.array([6,2,5,1])\n",
    "diff =  np.setdiff1d(a,b)\n",
    "print diff"
   ]
  },
  {
   "cell_type": "code",
   "execution_count": 24,
   "metadata": {
    "collapsed": false
   },
   "outputs": [
    {
     "name": "stdout",
     "output_type": "stream",
     "text": [
      "[2]\n",
      "[1]\n"
     ]
    }
   ],
   "source": [
    "to_select = np.where(a == diff)[0]\n",
    "print to_select\n",
    "print to_select-1"
   ]
  },
  {
   "cell_type": "code",
   "execution_count": 21,
   "metadata": {
    "collapsed": false
   },
   "outputs": [
    {
     "data": {
      "text/plain": [
       "array([3])"
      ]
     },
     "execution_count": 21,
     "metadata": {},
     "output_type": "execute_result"
    }
   ],
   "source": [
    "a[to_select]"
   ]
  },
  {
   "cell_type": "code",
   "execution_count": 26,
   "metadata": {
    "collapsed": false
   },
   "outputs": [
    {
     "data": {
      "text/plain": [
       "array([1, 2, 5])"
      ]
     },
     "execution_count": 26,
     "metadata": {},
     "output_type": "execute_result"
    }
   ],
   "source": [
    "np.delete(a, to_select,0)"
   ]
  },
  {
   "cell_type": "code",
   "execution_count": 35,
   "metadata": {
    "collapsed": false
   },
   "outputs": [
    {
     "data": {
      "text/plain": [
       "False"
      ]
     },
     "execution_count": 35,
     "metadata": {},
     "output_type": "execute_result"
    }
   ],
   "source": [
    "\n",
    "all(a == b)"
   ]
  }
 ],
 "metadata": {
  "kernelspec": {
   "display_name": "Python 2",
   "language": "python",
   "name": "python2"
  },
  "language_info": {
   "codemirror_mode": {
    "name": "ipython",
    "version": 2
   },
   "file_extension": ".py",
   "mimetype": "text/x-python",
   "name": "python",
   "nbconvert_exporter": "python",
   "pygments_lexer": "ipython2",
   "version": "2.7.12"
  }
 },
 "nbformat": 4,
 "nbformat_minor": 2
}
