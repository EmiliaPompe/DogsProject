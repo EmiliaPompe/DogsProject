{
 "cells": [
  {
   "cell_type": "code",
   "execution_count": 2,
   "metadata": {
    "collapsed": false
   },
   "outputs": [
    {
     "name": "stdout",
     "output_type": "stream",
     "text": [
      "(1000, 2) => 100\n"
     ]
    }
   ],
   "source": [
    "from sklearn.metrics.pairwise import rbf_kernel\n",
    "import numpy as np\n",
    "from scipy import sparse \n",
    "import sys\n",
    "from gaussiandata import SyntheticTarget\n",
    "from online_prototypes import greedy_select_protos_online\n",
    "from online_criticism import greedy_select_criticism_online\n",
    "#import greedy_functions\n",
    "import math\n",
    "import scipy"
   ]
  },
  {
   "cell_type": "code",
   "execution_count": 5,
   "metadata": {
    "collapsed": false
   },
   "outputs": [
    {
     "name": "stdout",
     "output_type": "stream",
     "text": [
      "[[ 2.58801945 -4.10201855]\n",
      " [-1.1745815  -3.81182871]\n",
      " [ 3.41529632 -3.59914177]]\n"
     ]
    }
   ],
   "source": [
    "SEED = 666\n",
    "number_of_gaussians = 2\n",
    "ex = SyntheticTarget(seed=SEED, dist_components=number_of_gaussians)\n",
    "\n",
    "N = 1000\n",
    "M = 10\n",
    "data = ex.draw_sample(N)\n",
    "print data[(2,3,4),:]\n",
    "gamma = 2\n",
    "kernel_matrix = rbf_kernel(data, gamma = gamma)"
   ]
  },
  {
   "cell_type": "code",
   "execution_count": null,
   "metadata": {
    "collapsed": false
   },
   "outputs": [],
   "source": [
    "#prototype_indices = greedy_select_protos(kernel_matrix, candidate_indices = np.array(range(N)), m = M)"
   ]
  },
  {
   "cell_type": "code",
   "execution_count": null,
   "metadata": {
    "collapsed": false
   },
   "outputs": [],
   "source": [
    "#print(prototype_indices)"
   ]
  },
  {
   "cell_type": "code",
   "execution_count": 6,
   "metadata": {
    "collapsed": true
   },
   "outputs": [],
   "source": [
    "def rbf(x,y, gamma):\n",
    "    x = np.asarray(x)\n",
    "    y = np.asarray(y)\n",
    "    return scipy.exp(-gamma*np.linalg.norm(x-y))\n",
    "\n",
    "def our_rbf_kernel(current_kernel_subset,  gamma, x_new, n, data):\n",
    "    new_row = np.zeros(n)\n",
    "    for i in range(n):\n",
    "         new_row[i] = rbf(x = x_new, y = data[i], gamma = gamma)\n",
    "    new_kernel_subset = np.vstack((current_kernel_subset, new_row))\n",
    "    return new_kernel_subset"
   ]
  },
  {
   "cell_type": "code",
   "execution_count": 11,
   "metadata": {
    "collapsed": false
   },
   "outputs": [
    {
     "ename": "IndentationError",
     "evalue": "expected an indented block (<ipython-input-11-4d9fb0509e6d>, line 39)",
     "output_type": "error",
     "traceback": [
      "\u001b[0;36m  File \u001b[0;32m\"<ipython-input-11-4d9fb0509e6d>\"\u001b[0;36m, line \u001b[0;32m39\u001b[0m\n\u001b[0;31m    \u001b[0m\n\u001b[0m    ^\u001b[0m\n\u001b[0;31mIndentationError\u001b[0m\u001b[0;31m:\u001b[0m expected an indented block\n"
     ]
    }
   ],
   "source": [
    "gamma = 2\n",
    "prototype_indices = np.arange(M) #assign first M points as prototypes. CONSIDER another method later.\n",
    "criticism_indices = np.arange(M, 2*M) # assign second M points as prototypes.\n",
    "\n",
    "#calculate the initial kernel matrix for the first M points\n",
    "current_kernel_matrix_proto = rbf_kernel(data[prototype_indices,:], gamma=gamma)\n",
    "\n",
    "current_kernel_matrix_criticism = rbf_kernel(data[np.array(prototype_indices, criticism_indices),:], gamma = gamma)\n",
    "\n",
    "for i in range(2*M, N):\n",
    "    new_point_index = i # assign the new data point index\n",
    "    \n",
    "    accept == 1 # decide whether to skip the criticism part or not \n",
    "    \n",
    "    #prototype part\n",
    "    if accept == 1:\n",
    "        #add new column and row to the kernel matrix for the new point; \n",
    "        #kernel matrix is always growing\n",
    "        #current_kernel_subset,  gamma, x_new, n, timeseries):\n",
    "        new_kernel_matrix_proto = our_rbf_kernel(gamma = gamma, current_kernel_subset = current_kernel_matrix_proto, n = i, data = data[i-1], x_new= data[i])\n",
    "        \n",
    "        #run the greedy algorithm on these M+1 data points to select M prototypes\n",
    "        prototype_indices_temp = greedy_select_protos_online(new_kernel_matrix_proto, \n",
    "                                                  selectedprotos = np.vstack((prototype_indices, i)), m = M)\n",
    "    \n",
    "        if prototype_indices_temp == prototype_indices:\n",
    "            accept == 0\n",
    "        \n",
    "        else:\n",
    "            prototype_indices = prototype_indices_temp # update the indices\n",
    "            current_kernel_matrix_proto = new_kernel_matrix_proto # update the kernel matrix\n",
    "    \n",
    "    \n",
    "    #criticism part\n",
    "    if accept == 0:\n",
    "        \n",
    "        new_kernel_matrix_criticism = our_rbf_kernel(gamma = gamma, current_kernel_subset = current_kernel_matrix_criticism, n = i, data = data[i-1], x_new= data[i])\n",
    "        \n",
    "        #run the greedy algorithm on these M+1 data points to select M prototypes\n",
    "        criticism_indices_temp = greedy_select_criticism_online(new_kernel_matrix_criticism, \n",
    "                                                  selectedprotos = np.vstack((prototype_indices, i)), selectedcritic = criticism_indices, c = M, reg='logdet')\n",
    "\n",
    "        \n",
    "        if prototype_indices_temp == prototype_indices:\n",
    "            accept == 0\n",
    "        \n",
    "        else:\n",
    "            prototype_indices = prototype_indices_temp # update the indices\n",
    "            current_kernel_matrix_proto = new_kernel_matrix_proto # update the kernel matrix\n",
    "    \n",
    "    "
   ]
  },
  {
   "cell_type": "code",
   "execution_count": null,
   "metadata": {
    "collapsed": false
   },
   "outputs": [],
   "source": [
    "np.arange(M+1)"
   ]
  },
  {
   "cell_type": "code",
   "execution_count": null,
   "metadata": {
    "collapsed": false
   },
   "outputs": [],
   "source": [
    "current_kernel_subset =  np.random.randn(5,10)\n",
    "our_rbf_kernel(current_kernel_subset = current_kernel_subset, gamma = 2, x_new = 6, n = 10, timeseries = np.arange(10))\n"
   ]
  },
  {
   "cell_type": "code",
   "execution_count": null,
   "metadata": {
    "collapsed": false
   },
   "outputs": [],
   "source": [
    "new_row = np.zeros(10)"
   ]
  },
  {
   "cell_type": "code",
   "execution_count": null,
   "metadata": {
    "collapsed": false
   },
   "outputs": [],
   "source": [
    "print new_row"
   ]
  },
  {
   "cell_type": "code",
   "execution_count": 1,
   "metadata": {
    "collapsed": false
   },
   "outputs": [
    {
     "data": {
      "text/plain": [
       "[0, 1, 2, 3, 4, 5, 6, 7, 8, 9]"
      ]
     },
     "execution_count": 1,
     "metadata": {},
     "output_type": "execute_result"
    }
   ],
   "source": [
    "range(10)"
   ]
  },
  {
   "cell_type": "code",
   "execution_count": null,
   "metadata": {
    "collapsed": true
   },
   "outputs": [],
   "source": [
    "A =  np.random.randn(5,10)\n",
    "B =  np.random.randn(5,10)\n"
   ]
  },
  {
   "cell_type": "code",
   "execution_count": null,
   "metadata": {
    "collapsed": true
   },
   "outputs": [],
   "source": []
  }
 ],
 "metadata": {
  "kernelspec": {
   "display_name": "Python 2",
   "language": "python",
   "name": "python2"
  },
  "language_info": {
   "codemirror_mode": {
    "name": "ipython",
    "version": 2
   },
   "file_extension": ".py",
   "mimetype": "text/x-python",
   "name": "python",
   "nbconvert_exporter": "python",
   "pygments_lexer": "ipython2",
   "version": "2.7.12"
  }
 },
 "nbformat": 4,
 "nbformat_minor": 2
}
