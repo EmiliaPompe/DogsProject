{
 "cells": [
  {
   "cell_type": "code",
   "execution_count": 14,
   "metadata": {
    "collapsed": false
   },
   "outputs": [],
   "source": [
    "from sklearn.metrics.pairwise import rbf_kernel\n",
    "import numpy as np\n",
    "from scipy import sparse \n",
    "import sys\n",
    "from gaussiandata import SyntheticTarget\n",
    "from online_prototypes import greedy_select_protos\n",
    "from online_criticism import greedy_select_criticism_online\n",
    "#import greedy_functions\n",
    "import math\n",
    "import scipy"
   ]
  },
  {
   "cell_type": "code",
   "execution_count": 13,
   "metadata": {
    "collapsed": false
   },
   "outputs": [
    {
     "name": "stdout",
     "output_type": "stream",
     "text": [
      "[[ 3.64703263 -3.77549178]\n",
      " [-0.42829885 -3.19168078]\n",
      " [ 3.175412   -3.63978629]]\n"
     ]
    }
   ],
   "source": [
    "SEED = 666\n",
    "number_of_gaussians = 2\n",
    "ex = SyntheticTarget(seed=SEED, dist_components=number_of_gaussians)\n",
    "\n",
    "N = 10000\n",
    "M = 100\n",
    "data = ex.draw_sample(N)\n",
    "print data[(2,3,4),:]\n",
    "gamma = 2\n",
    "kernel_matrix = rbf_kernel(data, gamma = gamma)"
   ]
  },
  {
   "cell_type": "code",
   "execution_count": null,
   "metadata": {
    "collapsed": false
   },
   "outputs": [],
   "source": [
    "prototype_indices = greedy_select_protos(kernel_matrix, candidate_indices = np.array(range(N)), m = M)"
   ]
  },
  {
   "cell_type": "code",
   "execution_count": null,
   "metadata": {
    "collapsed": false
   },
   "outputs": [],
   "source": [
    "print(prototype_indices)"
   ]
  },
  {
   "cell_type": "code",
   "execution_count": null,
   "metadata": {
    "collapsed": true
   },
   "outputs": [],
   "source": [
    "def rbf(x,y, gamma):\n",
    "    x = np.asarray(x)\n",
    "    y = np.asarray(y)\n",
    "    return scipy.exp(-gamma*np.linalg.norm(x-y))\n",
    "\n",
    "def our_rbf_kernel(current_kernel_subset,  gamma, x_new, n, timeseries):\n",
    "    new_row = np.zeros(n)\n",
    "    for i in range(n):\n",
    "         new_row[i] = rbf(x = x_new, y = timeseries[i], gamma = gamma)\n",
    "    new_kernel_subset = np.vstack((current_kernel_subset, new_row))\n",
    "    return new_kernel_subset"
   ]
  },
  {
   "cell_type": "code",
   "execution_count": null,
   "metadata": {
    "collapsed": false
   },
   "outputs": [],
   "source": [
    "gamma = 2\n",
    "prototype_indices = np.arange(M) #assign first M points as prototypes. CONSIDER another method later.\n",
    "criticism_indices = np.arange(M, 2*M) # assign second M points as prototypes.\n",
    "\n",
    "#calculate the initial kernel matrix for the first M points\n",
    "current_kernel_matrix_proto = rbf_kernel(data[prototype_indices,:], gamma=gamma)\n",
    "\n",
    "#current_kernel_matrix_criticism = rbf_kernel(data[np.array(prototype_indices, criticism_indices),:], gamma = gamma)\n",
    "\n",
    "for i in range(2*M, N):\n",
    "    new_point_index = i # assign the new data point index\n",
    "    \n",
    "    accept == 1 # decide whether to skip the criticism part or not \n",
    "    \n",
    "    #prototype part\n",
    "    if accept == 1:\n",
    "        #add new column and row to the kernel matrix for the new point; \n",
    "        #kernel matrix is always growing\n",
    "        #current_kernel_subset,  gamma, x_new, n, timeseries):\n",
    "        new_kernel_matrix_proto = our_rbf_kernel(gamma = gamma, current_kernel_subset = current_kernel_matrix_proto, n = i, timeseries = timeseries, x_new= x_new)\n",
    "        \n",
    "        #run the greedy algorithm on these M+1 data points to select M prototypes\n",
    "        prototype_indices_temp = greedy_select_protos(new_kernel_matrix_proto, \n",
    "                                                  candidate_indices = np.vstack((prototype_indices, i-1)), m = M)\n",
    "    \n",
    "        if prototype_indices_temp == prototype_indices:\n",
    "            accept == 0\n",
    "        \n",
    "        else:\n",
    "            prototype_indices = prototype_indices_temp # update the indices\n",
    "            current_kernel_matrix_proto = new_kernel_matrix_proto # update the kernel matrix\n",
    "    \n",
    "    \n",
    "    #criticism part\n",
    "    if accept == 0:\n",
    "        \n",
    "    \n",
    "    "
   ]
  },
  {
   "cell_type": "code",
   "execution_count": null,
   "metadata": {
    "collapsed": false
   },
   "outputs": [],
   "source": [
    "np.arange(M+1)"
   ]
  },
  {
   "cell_type": "code",
   "execution_count": null,
   "metadata": {
    "collapsed": false
   },
   "outputs": [],
   "source": [
    "current_kernel_subset =  np.random.randn(5,10)\n",
    "our_rbf_kernel(current_kernel_subset = current_kernel_subset, gamma = 2, x_new = 6, n = 10, timeseries = np.arange(10))\n"
   ]
  },
  {
   "cell_type": "code",
   "execution_count": null,
   "metadata": {
    "collapsed": false
   },
   "outputs": [],
   "source": [
    "new_row = np.zeros(10)"
   ]
  },
  {
   "cell_type": "code",
   "execution_count": null,
   "metadata": {
    "collapsed": false
   },
   "outputs": [],
   "source": [
    "print new_row"
   ]
  },
  {
   "cell_type": "code",
   "execution_count": null,
   "metadata": {
    "collapsed": false
   },
   "outputs": [],
   "source": [
    "np.arange(10)"
   ]
  },
  {
   "cell_type": "code",
   "execution_count": null,
   "metadata": {
    "collapsed": true
   },
   "outputs": [],
   "source": [
    "A =  np.random.randn(5,10)\n",
    "B =  np.random.randn(5,10)\n"
   ]
  },
  {
   "cell_type": "code",
   "execution_count": null,
   "metadata": {
    "collapsed": true
   },
   "outputs": [],
   "source": []
  }
 ],
 "metadata": {
  "kernelspec": {
   "display_name": "Python 2",
   "language": "python",
   "name": "python2"
  },
  "language_info": {
   "codemirror_mode": {
    "name": "ipython",
    "version": 2
   },
   "file_extension": ".py",
   "mimetype": "text/x-python",
   "name": "python",
   "nbconvert_exporter": "python",
   "pygments_lexer": "ipython2",
   "version": "2.7.12"
  }
 },
 "nbformat": 4,
 "nbformat_minor": 2
}
