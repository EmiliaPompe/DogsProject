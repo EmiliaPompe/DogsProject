{
 "cells": [
  {
   "cell_type": "code",
   "execution_count": 32,
   "metadata": {
    "collapsed": false
   },
   "outputs": [],
   "source": [
    "from sklearn.metrics.pairwise import rbf_kernel\n",
    "import numpy as np\n",
    "from scipy import sparse \n",
    "import sys\n",
    "from gaussiandata import SyntheticTarget\n",
    "from greedyfunctions import greedy_select_protos\n",
    "#import greedy_functions\n",
    "import math\n",
    "import scipy"
   ]
  },
  {
   "cell_type": "code",
   "execution_count": 33,
   "metadata": {
    "collapsed": true
   },
   "outputs": [],
   "source": [
    "SEED = 666\n",
    "number_of_gaussians = 2\n",
    "ex = SyntheticTarget(seed=SEED, dist_components=number_of_gaussians)\n",
    "\n",
    "N = 10000\n",
    "M = 100\n",
    "data = ex.draw_sample(N)\n",
    "gamma = 2\n",
    "kernel_matrix = rbf_kernel(data, gamma = gamma)"
   ]
  },
  {
   "cell_type": "code",
   "execution_count": 34,
   "metadata": {
    "collapsed": false
   },
   "outputs": [],
   "source": [
    "prototype_indices = greedy_select_protos(kernel_matrix, candidate_indices = np.array(range(N)), m = M)"
   ]
  },
  {
   "cell_type": "code",
   "execution_count": 35,
   "metadata": {
    "collapsed": false
   },
   "outputs": [
    {
     "name": "stdout",
     "output_type": "stream",
     "text": [
      "[5520 9233 8410 2765 5408 7700 6251 3124 3154 8664 3021 7174 4807 5573 6757\n",
      " 2866 2509 3216 2984 9589 4789 9973 3970 8961 8676  273 6175 7566  422 9159\n",
      "  890 5999 4149 5382 2271 8973 6197 9490 9316 4673  462 1366 6309 5096 6603\n",
      " 6621 1770 1135 1426 9524 8569 5369 2886 6060 8788 5336 2350 9297 7198 2719\n",
      " 8580 4556 4271 8952 9421 9819 1784 5344 4875 6594 1699 4037 7725 9828 3376\n",
      " 6622 8567 4374 8793 4737 5005 9767 1547 5781 1349 2911  134 7105 2623 3882\n",
      " 8532 8728 1281 9468 8541  666 8165 2594 2686 3963]\n"
     ]
    }
   ],
   "source": [
    "print(prototype_indices)"
   ]
  },
  {
   "cell_type": "code",
   "execution_count": null,
   "metadata": {
    "collapsed": true
   },
   "outputs": [],
   "source": []
  }
 ],
 "metadata": {
  "kernelspec": {
   "display_name": "Python 2",
   "language": "python",
   "name": "python2"
  },
  "language_info": {
   "codemirror_mode": {
    "name": "ipython",
    "version": 2
   },
   "file_extension": ".py",
   "mimetype": "text/x-python",
   "name": "python",
   "nbconvert_exporter": "python",
   "pygments_lexer": "ipython2",
   "version": "2.7.12"
  }
 },
 "nbformat": 4,
 "nbformat_minor": 2
}
