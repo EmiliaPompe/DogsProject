{
 "cells": [
  {
   "cell_type": "code",
   "execution_count": 22,
   "metadata": {
    "collapsed": false
   },
   "outputs": [],
   "source": [
    "from sklearn.metrics.pairwise import rbf_kernel\n",
    "import numpy as np\n",
    "import sys\n",
    "from gaussiandata import SyntheticTarget"
   ]
  },
  {
   "cell_type": "code",
   "execution_count": 23,
   "metadata": {
    "collapsed": false
   },
   "outputs": [],
   "source": [
    "SEED = 666\n",
    "ex = SyntheticTarget(seed=SEED, dist_components=2)\n",
    "\n",
    "N = 1000\n",
    "M = 100\n",
    "data = ex.draw_sample(N)\n",
    "gamma = 2\n",
    "kernel_matrix = rbf_kernel(data, gamma = gamma)"
   ]
  },
  {
   "cell_type": "code",
   "execution_count": 24,
   "metadata": {
    "collapsed": true
   },
   "outputs": [],
   "source": [
    "# K is the kernel matrix which is nbyn, n being the number of data points\n",
    "# candidate indicies is an array of 0 to n-1, you might want to use a subset instead. TO CONSIDER.\n",
    "\n",
    "def greedy_select_protos(K, candidate_indices, m, is_K_sparse=False):\n",
    "\n",
    "    if len(candidate_indices) != np.shape(K)[0]:\n",
    "        K = K[:,candidate_indices][candidate_indices,:]\n",
    "\n",
    "    n = len(candidate_indices)\n",
    "\n",
    "    # colsum = np.array(K.sum(0)).ravel() # same as rowsum\n",
    "    if is_K_sparse:\n",
    "        colsum = 2*np.array(K.sum(0)).ravel() / n\n",
    "    else:\n",
    "        colsum = 2*np.sum(K, axis=0) / n\n",
    "\n",
    "    selected = np.array([], dtype=int)\n",
    "    value = np.array([])\n",
    "    for i in range(m):\n",
    "        maxx = -sys.float_info.max\n",
    "        argmax = -1\n",
    "        candidates = np.setdiff1d(range(n), selected)\n",
    "\n",
    "        s1array = colsum[candidates]\n",
    "        if len(selected) > 0:\n",
    "            temp = K[selected, :][:, candidates]\n",
    "            if is_K_sparse:\n",
    "                # s2array = temp.sum(0) *2\n",
    "                s2array = temp.sum(0) * 2 + K.diagonal()[candidates]\n",
    "\n",
    "            else:\n",
    "                s2array = np.sum(temp, axis=0) *2 + np.diagonal(K)[candidates]\n",
    "\n",
    "            s2array = s2array/(len(selected) + 1)\n",
    "\n",
    "            s1array = s1array - s2array\n",
    "\n",
    "        else:\n",
    "            if is_K_sparse:\n",
    "                s1array = s1array - np.log(np.abs(K.diagonal()[candidates]))\n",
    "            else:\n",
    "                s1array = s1array - np.log(np.abs(np.diagonal(K)[candidates]))\n",
    "\n",
    "        argmax = candidates[np.argmax(s1array)]\n",
    "        # print \"max %f\" %np.max(s1array)\n",
    "\n",
    "        selected = np.append(selected, argmax)\n",
    "        # value = np.append(value,maxx)\n",
    "        KK = K[selected, :][:, selected]\n",
    "        if is_K_sparse:\n",
    "            KK = KK.todense()\n",
    "\n",
    "        inverse_of_prev_selected = np.linalg.inv(KK)  # shortcut\n",
    "\n",
    "    return candidate_indices[selected]"
   ]
  },
  {
   "cell_type": "code",
   "execution_count": 33,
   "metadata": {
    "collapsed": false
   },
   "outputs": [
    {
     "data": {
      "text/plain": [
       "array([ 60, 953,  71, 392, 350,   6, 450, 853, 189, 105])"
      ]
     },
     "execution_count": 33,
     "metadata": {},
     "output_type": "execute_result"
    }
   ],
   "source": [
    "m = 10\n",
    "#print np.array(range(np.shape(kernel_matrix)[0]))\n",
    "#print np.array(range(N))\n",
    "greedy_select_protos(kernel_matrix, candidate_indices = np.array(range(N)), m = m)"
   ]
  },
  {
   "cell_type": "code",
   "execution_count": null,
   "metadata": {
    "collapsed": true
   },
   "outputs": [],
   "source": []
  }
 ],
 "metadata": {
  "kernelspec": {
   "display_name": "Python 2",
   "language": "python",
   "name": "python2"
  },
  "language_info": {
   "codemirror_mode": {
    "name": "ipython",
    "version": 2
   },
   "file_extension": ".py",
   "mimetype": "text/x-python",
   "name": "python",
   "nbconvert_exporter": "python",
   "pygments_lexer": "ipython2",
   "version": "2.7.12"
  }
 },
 "nbformat": 4,
 "nbformat_minor": 2
}
