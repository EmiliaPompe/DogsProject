{
 "cells": [
  {
   "cell_type": "code",
   "execution_count": 17,
   "metadata": {
    "collapsed": false
   },
   "outputs": [],
   "source": [
    "from onlinelossmax import online_loss_max"
   ]
  },
  {
   "cell_type": "code",
   "execution_count": 19,
   "metadata": {
    "collapsed": false
   },
   "outputs": [
    {
     "name": "stdout",
     "output_type": "stream",
     "text": [
      "[100 101 102 103 104 105 106 107 108 109 110 111 112 113 114 115 116 117\n",
      " 118 119 120 121 122 123 124 125 126 127 128 129 130 131 132 133 134 135\n",
      " 136 137 138 139 140 141 142 143 144 145 146 147 148 149 150 151 152 153\n",
      " 154 155 156 157 158 159 161 162 163 164 165 166 167 168 169 170 171 172\n",
      " 173 174 175 176 177 178 179 180 181 182 183 184 185 186 187 188 189 190\n",
      " 191 192 193 194 195 196 197 198 199 999]\n"
     ]
    }
   ],
   "source": [
    "import numpy as np\n",
    "from __future__ import division\n",
    "np.random.seed(seed = 100)\n",
    "M = 100\n",
    "n = 1000\n",
    "stored_phis = np.random.randn(n)\n",
    "full_phi_sum = np.sum(stored_phis)\n",
    "\n",
    "prototype_indices = range(M)\n",
    "proto_phi_sum = np.sum(stored_phis[prototype_indices])\n",
    "criticism_indices = range(M,2*M)  # The indicies of the criticisms.\n",
    "\n",
    "updated_criticism_indices = online_loss_max(stored_phis, full_phi_sum, proto_phi_sum, prototype_indices, criticism_indices, n, M, greedy = False)\n",
    "print updated_criticism_indices"
   ]
  },
  {
   "cell_type": "code",
   "execution_count": 93,
   "metadata": {
    "collapsed": false
   },
   "outputs": [
    {
     "name": "stdout",
     "output_type": "stream",
     "text": [
      "[100 101 102 103 104 105 106 107 108 109 110 111 112 113 114 115 116 117\n",
      " 118 119 120 121 122 123 124 125 126 127 128 129 130 131 132 133 134 135\n",
      " 136 137 138 139 140 141 142 143 144 145 146 147 148 149 150 151 152 153\n",
      " 154 155 156 157 158 159 161 162 163 164 165 166 167 168 169 170 171 172\n",
      " 173 174 175 176 177 178 179 180 181 182 183 184 185 186 187 188 189 190\n",
      " 191 192 193 194 195 196 197 198 199 999]\n"
     ]
    }
   ],
   "source": [
    "import numpy as np\n",
    "from __future__ import division\n",
    "np.random.seed(seed = 100)\n",
    "M = 100\n",
    "n = 1000\n",
    "phis = np.random.randn(n)\n",
    "full_phi_sum = np.sum(phis[:(n-1)])\n",
    "\n",
    "#proto_phi_sum #needs to be updated if the prototypes change, but this should happen before not at this stage!\n",
    "\n",
    "prototype_indices = range(M)\n",
    "proto_phi_sum = np.sum(phis[prototype_indices])\n",
    "criticism_indices = range(M,2*M)  # The indicies of the criticisms.\n",
    "#phi_new = phi(x_new)\n",
    "phi_new = phis[n-1]\n",
    "full_phi_sum += phi_new\n",
    "\n",
    "criticism_indices = criticism_indices + [n-1]\n",
    "phis_for_criticisms = phis[criticism_indices]\n",
    "losses = np.zeros(M+1)\n",
    "for l in range(M+1):\n",
    "    losses[l] = np.abs((1/n)*np.inner(full_phi_sum, phis_for_criticisms[l]) - (1/M)*np.inner(proto_phi_sum, phis_for_criticisms[l]))\n",
    "    \n",
    "min_loss_idx = np.argmin(losses)\n",
    "min_loss = losses[min_loss_idx]\n",
    "new_loss = losses[M]\n",
    "\n",
    "\n",
    "if new_loss > min_loss:\n",
    "    criticism_indices = np.delete(criticism_indices, min_loss_idx)\n",
    "else:\n",
    "    criticism_indices = np.delete(criticism_indices, M+1)\n",
    "    \n",
    "print criticism_indices\n"
   ]
  },
  {
   "cell_type": "code",
   "execution_count": 14,
   "metadata": {
    "collapsed": false
   },
   "outputs": [
    {
     "name": "stdout",
     "output_type": "stream",
     "text": [
      "45\n"
     ]
    }
   ],
   "source": [
    "phis = range(10)\n",
    "full_phi_sum = sum(phis)\n",
    "print full_phi_sum"
   ]
  },
  {
   "cell_type": "code",
   "execution_count": null,
   "metadata": {
    "collapsed": true
   },
   "outputs": [],
   "source": []
  },
  {
   "cell_type": "code",
   "execution_count": null,
   "metadata": {
    "collapsed": true
   },
   "outputs": [],
   "source": []
  }
 ],
 "metadata": {
  "kernelspec": {
   "display_name": "Python 2",
   "language": "python",
   "name": "python2"
  },
  "language_info": {
   "codemirror_mode": {
    "name": "ipython",
    "version": 2
   },
   "file_extension": ".py",
   "mimetype": "text/x-python",
   "name": "python",
   "nbconvert_exporter": "python",
   "pygments_lexer": "ipython2",
   "version": "2.7.12"
  }
 },
 "nbformat": 4,
 "nbformat_minor": 2
}
